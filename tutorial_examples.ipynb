{
 "cells": [
  {
   "cell_type": "markdown",
   "metadata": {},
   "source": [
    "# mlrose_hiive Tutorial Examples - Genevieve Hayes"
   ]
  },
  {
   "cell_type": "markdown",
   "metadata": {},
   "source": [
    "## Overview"
   ]
  },
  {
   "cell_type": "markdown",
   "metadata": {},
   "source": [
    "mlrose_hiive is a Python package for applying some of the most common randomized optimization and search algorithms to a range of different optimization problems, over both discrete- and continuous-valued parameter spaces. This notebook contains the examples used in the mlrose_hiive tutorial."
   ]
  },
  {
   "cell_type": "markdown",
   "metadata": {},
   "source": [
    "### Import Libraries"
   ]
  },
  {
   "cell_type": "code",
   "execution_count": 1,
   "metadata": {},
   "outputs": [
    {
     "name": "stdout",
     "output_type": "stream",
     "text": [
      "Requirement already satisfied: networkx in /Users/destroyer/opt/miniconda3/lib/python3.9/site-packages (2.8.4)\n",
      "Python 3.9.12\n"
     ]
    }
   ],
   "source": [
    "! pip install networkx\n",
    "! python --version\n",
    "\n",
    "import mlrose_hiive\n",
    "import numpy as np\n",
    "\n",
    "from sklearn.datasets import load_iris\n",
    "from sklearn.model_selection import train_test_split\n",
    "from sklearn.preprocessing import MinMaxScaler, OneHotEncoder\n",
    "from sklearn.metrics import accuracy_score"
   ]
  },
  {
   "cell_type": "markdown",
   "metadata": {},
   "source": [
    "### Example 6: Fitting a Neural Network to the Iris Dataset"
   ]
  },
  {
   "cell_type": "code",
   "execution_count": 42,
   "metadata": {},
   "outputs": [],
   "source": [
    "# Load the Iris dataset\n",
    "data = load_iris()"
   ]
  },
  {
   "cell_type": "code",
   "execution_count": 43,
   "metadata": {},
   "outputs": [
    {
     "name": "stdout",
     "output_type": "stream",
     "text": [
      "[5.1 3.5 1.4 0.2]\n"
     ]
    }
   ],
   "source": [
    "# Get feature values of first observation\n",
    "print(data.data[0])"
   ]
  },
  {
   "cell_type": "code",
   "execution_count": 44,
   "metadata": {},
   "outputs": [
    {
     "name": "stdout",
     "output_type": "stream",
     "text": [
      "['sepal length (cm)', 'sepal width (cm)', 'petal length (cm)', 'petal width (cm)']\n"
     ]
    }
   ],
   "source": [
    "# Get feature names\n",
    "print(data.feature_names)"
   ]
  },
  {
   "cell_type": "code",
   "execution_count": 45,
   "metadata": {},
   "outputs": [
    {
     "name": "stdout",
     "output_type": "stream",
     "text": [
      "0\n"
     ]
    }
   ],
   "source": [
    "# Get target value of first observation\n",
    "print(data.target[0])"
   ]
  },
  {
   "cell_type": "code",
   "execution_count": 46,
   "metadata": {},
   "outputs": [
    {
     "name": "stdout",
     "output_type": "stream",
     "text": [
      "setosa\n"
     ]
    }
   ],
   "source": [
    "# Get target name of first observation\n",
    "print(data.target_names[data.target[0]])"
   ]
  },
  {
   "cell_type": "code",
   "execution_count": 47,
   "metadata": {},
   "outputs": [
    {
     "name": "stdout",
     "output_type": "stream",
     "text": [
      "[4.3 2.  1.  0.1]\n"
     ]
    }
   ],
   "source": [
    "# Get minimum feature values\n",
    "print(np.min(data.data, axis = 0))"
   ]
  },
  {
   "cell_type": "code",
   "execution_count": 48,
   "metadata": {},
   "outputs": [
    {
     "name": "stdout",
     "output_type": "stream",
     "text": [
      "[7.9 4.4 6.9 2.5]\n"
     ]
    }
   ],
   "source": [
    "# Get maximum feature values\n",
    "print(np.max(data.data, axis = 0))"
   ]
  },
  {
   "cell_type": "code",
   "execution_count": 49,
   "metadata": {},
   "outputs": [
    {
     "name": "stdout",
     "output_type": "stream",
     "text": [
      "[0 1 2]\n"
     ]
    }
   ],
   "source": [
    "# Get unique target values\n",
    "print(np.unique(data.target))"
   ]
  },
  {
   "cell_type": "code",
   "execution_count": 50,
   "metadata": {},
   "outputs": [],
   "source": [
    "# Split data into training and test sets\n",
    "X_train, X_test, y_train, y_test = train_test_split(data.data, data.target, test_size = 0.2, \n",
    "                                                    random_state = 3)"
   ]
  },
  {
   "cell_type": "code",
   "execution_count": 51,
   "metadata": {},
   "outputs": [],
   "source": [
    "# Normalize feature data\n",
    "scaler = MinMaxScaler()\n",
    "\n",
    "X_train_scaled = scaler.fit_transform(X_train)\n",
    "X_test_scaled = scaler.transform(X_test)"
   ]
  },
  {
   "cell_type": "code",
   "execution_count": 52,
   "metadata": {},
   "outputs": [],
   "source": [
    "# One hot encode target values\n",
    "one_hot = OneHotEncoder()\n",
    "\n",
    "y_train_hot = one_hot.fit_transform(y_train.reshape(-1, 1)).todense()\n",
    "y_test_hot = one_hot.transform(y_test.reshape(-1, 1)).todense()"
   ]
  },
  {
   "cell_type": "code",
   "execution_count": 53,
   "metadata": {},
   "outputs": [
    {
     "data": {
      "text/html": [
       "<style>#sk-container-id-1 {color: black;background-color: white;}#sk-container-id-1 pre{padding: 0;}#sk-container-id-1 div.sk-toggleable {background-color: white;}#sk-container-id-1 label.sk-toggleable__label {cursor: pointer;display: block;width: 100%;margin-bottom: 0;padding: 0.3em;box-sizing: border-box;text-align: center;}#sk-container-id-1 label.sk-toggleable__label-arrow:before {content: \"▸\";float: left;margin-right: 0.25em;color: #696969;}#sk-container-id-1 label.sk-toggleable__label-arrow:hover:before {color: black;}#sk-container-id-1 div.sk-estimator:hover label.sk-toggleable__label-arrow:before {color: black;}#sk-container-id-1 div.sk-toggleable__content {max-height: 0;max-width: 0;overflow: hidden;text-align: left;background-color: #f0f8ff;}#sk-container-id-1 div.sk-toggleable__content pre {margin: 0.2em;color: black;border-radius: 0.25em;background-color: #f0f8ff;}#sk-container-id-1 input.sk-toggleable__control:checked~div.sk-toggleable__content {max-height: 200px;max-width: 100%;overflow: auto;}#sk-container-id-1 input.sk-toggleable__control:checked~label.sk-toggleable__label-arrow:before {content: \"▾\";}#sk-container-id-1 div.sk-estimator input.sk-toggleable__control:checked~label.sk-toggleable__label {background-color: #d4ebff;}#sk-container-id-1 div.sk-label input.sk-toggleable__control:checked~label.sk-toggleable__label {background-color: #d4ebff;}#sk-container-id-1 input.sk-hidden--visually {border: 0;clip: rect(1px 1px 1px 1px);clip: rect(1px, 1px, 1px, 1px);height: 1px;margin: -1px;overflow: hidden;padding: 0;position: absolute;width: 1px;}#sk-container-id-1 div.sk-estimator {font-family: monospace;background-color: #f0f8ff;border: 1px dotted black;border-radius: 0.25em;box-sizing: border-box;margin-bottom: 0.5em;}#sk-container-id-1 div.sk-estimator:hover {background-color: #d4ebff;}#sk-container-id-1 div.sk-parallel-item::after {content: \"\";width: 100%;border-bottom: 1px solid gray;flex-grow: 1;}#sk-container-id-1 div.sk-label:hover label.sk-toggleable__label {background-color: #d4ebff;}#sk-container-id-1 div.sk-serial::before {content: \"\";position: absolute;border-left: 1px solid gray;box-sizing: border-box;top: 0;bottom: 0;left: 50%;z-index: 0;}#sk-container-id-1 div.sk-serial {display: flex;flex-direction: column;align-items: center;background-color: white;padding-right: 0.2em;padding-left: 0.2em;position: relative;}#sk-container-id-1 div.sk-item {position: relative;z-index: 1;}#sk-container-id-1 div.sk-parallel {display: flex;align-items: stretch;justify-content: center;background-color: white;position: relative;}#sk-container-id-1 div.sk-item::before, #sk-container-id-1 div.sk-parallel-item::before {content: \"\";position: absolute;border-left: 1px solid gray;box-sizing: border-box;top: 0;bottom: 0;left: 50%;z-index: -1;}#sk-container-id-1 div.sk-parallel-item {display: flex;flex-direction: column;z-index: 1;position: relative;background-color: white;}#sk-container-id-1 div.sk-parallel-item:first-child::after {align-self: flex-end;width: 50%;}#sk-container-id-1 div.sk-parallel-item:last-child::after {align-self: flex-start;width: 50%;}#sk-container-id-1 div.sk-parallel-item:only-child::after {width: 0;}#sk-container-id-1 div.sk-dashed-wrapped {border: 1px dashed gray;margin: 0 0.4em 0.5em 0.4em;box-sizing: border-box;padding-bottom: 0.4em;background-color: white;}#sk-container-id-1 div.sk-label label {font-family: monospace;font-weight: bold;display: inline-block;line-height: 1.2em;}#sk-container-id-1 div.sk-label-container {text-align: center;}#sk-container-id-1 div.sk-container {/* jupyter's `normalize.less` sets `[hidden] { display: none; }` but bootstrap.min.css set `[hidden] { display: none !important; }` so we also need the `!important` here to be able to override the default hidden behavior on the sphinx rendered scikit-learn.org. See: https://github.com/scikit-learn/scikit-learn/issues/21755 */display: inline-block !important;position: relative;}#sk-container-id-1 div.sk-text-repr-fallback {display: none;}</style><div id=\"sk-container-id-1\" class=\"sk-top-container\"><div class=\"sk-text-repr-fallback\"><pre>NeuralNetwork(clip_max=5, early_stopping=True, hidden_nodes=[2],\n",
       "              learning_rate=0.0001, max_attempts=100, max_iters=1000,\n",
       "              random_state=3)</pre><b>In a Jupyter environment, please rerun this cell to show the HTML representation or trust the notebook. <br />On GitHub, the HTML representation is unable to render, please try loading this page with nbviewer.org.</b></div><div class=\"sk-container\" hidden><div class=\"sk-item\"><div class=\"sk-estimator sk-toggleable\"><input class=\"sk-toggleable__control sk-hidden--visually\" id=\"sk-estimator-id-1\" type=\"checkbox\" checked><label for=\"sk-estimator-id-1\" class=\"sk-toggleable__label sk-toggleable__label-arrow\">NeuralNetwork</label><div class=\"sk-toggleable__content\"><pre>NeuralNetwork(clip_max=5, early_stopping=True, hidden_nodes=[2],\n",
       "              learning_rate=0.0001, max_attempts=100, max_iters=1000,\n",
       "              random_state=3)</pre></div></div></div></div></div>"
      ],
      "text/plain": [
       "NeuralNetwork(clip_max=5, early_stopping=True, hidden_nodes=[2],\n",
       "              learning_rate=0.0001, max_attempts=100, max_iters=1000,\n",
       "              random_state=3)"
      ]
     },
     "execution_count": 53,
     "metadata": {},
     "output_type": "execute_result"
    }
   ],
   "source": [
    "# Initialize neural network object and fit object - attempt 1\n",
    "nn_model1 = mlrose_hiive.NeuralNetwork(hidden_nodes = [2], activation ='relu', \n",
    "                                 algorithm ='random_hill_climb', \n",
    "                                 max_iters = 1000, bias = True, is_classifier = True, \n",
    "                                 learning_rate = 0.0001, early_stopping = True, \n",
    "                                 clip_max = 5, max_attempts = 100, random_state = 3)\n",
    "\n",
    "nn_model1.fit(X_train_scaled, y_train_hot)"
   ]
  },
  {
   "cell_type": "code",
   "execution_count": 54,
   "metadata": {},
   "outputs": [
    {
     "name": "stdout",
     "output_type": "stream",
     "text": [
      "0.45\n"
     ]
    }
   ],
   "source": [
    "# Predict labels for train set and assess accuracy\n",
    "y_train_pred = nn_model1.predict(X_train_scaled)\n",
    "\n",
    "y_train_accuracy = accuracy_score(y_train_hot, y_train_pred)\n",
    "\n",
    "print(y_train_accuracy)"
   ]
  },
  {
   "cell_type": "code",
   "execution_count": 55,
   "metadata": {},
   "outputs": [
    {
     "name": "stdout",
     "output_type": "stream",
     "text": [
      "0.5333333333333333\n"
     ]
    }
   ],
   "source": [
    "# Predict labels for test set and assess accuracy\n",
    "y_test_pred = nn_model1.predict(X_test_scaled)\n",
    "\n",
    "y_test_accuracy = accuracy_score(y_test_hot, y_test_pred)\n",
    "\n",
    "print(y_test_accuracy)"
   ]
  },
  {
   "cell_type": "code",
   "execution_count": 56,
   "metadata": {},
   "outputs": [
    {
     "data": {
      "text/html": [
       "<style>#sk-container-id-2 {color: black;background-color: white;}#sk-container-id-2 pre{padding: 0;}#sk-container-id-2 div.sk-toggleable {background-color: white;}#sk-container-id-2 label.sk-toggleable__label {cursor: pointer;display: block;width: 100%;margin-bottom: 0;padding: 0.3em;box-sizing: border-box;text-align: center;}#sk-container-id-2 label.sk-toggleable__label-arrow:before {content: \"▸\";float: left;margin-right: 0.25em;color: #696969;}#sk-container-id-2 label.sk-toggleable__label-arrow:hover:before {color: black;}#sk-container-id-2 div.sk-estimator:hover label.sk-toggleable__label-arrow:before {color: black;}#sk-container-id-2 div.sk-toggleable__content {max-height: 0;max-width: 0;overflow: hidden;text-align: left;background-color: #f0f8ff;}#sk-container-id-2 div.sk-toggleable__content pre {margin: 0.2em;color: black;border-radius: 0.25em;background-color: #f0f8ff;}#sk-container-id-2 input.sk-toggleable__control:checked~div.sk-toggleable__content {max-height: 200px;max-width: 100%;overflow: auto;}#sk-container-id-2 input.sk-toggleable__control:checked~label.sk-toggleable__label-arrow:before {content: \"▾\";}#sk-container-id-2 div.sk-estimator input.sk-toggleable__control:checked~label.sk-toggleable__label {background-color: #d4ebff;}#sk-container-id-2 div.sk-label input.sk-toggleable__control:checked~label.sk-toggleable__label {background-color: #d4ebff;}#sk-container-id-2 input.sk-hidden--visually {border: 0;clip: rect(1px 1px 1px 1px);clip: rect(1px, 1px, 1px, 1px);height: 1px;margin: -1px;overflow: hidden;padding: 0;position: absolute;width: 1px;}#sk-container-id-2 div.sk-estimator {font-family: monospace;background-color: #f0f8ff;border: 1px dotted black;border-radius: 0.25em;box-sizing: border-box;margin-bottom: 0.5em;}#sk-container-id-2 div.sk-estimator:hover {background-color: #d4ebff;}#sk-container-id-2 div.sk-parallel-item::after {content: \"\";width: 100%;border-bottom: 1px solid gray;flex-grow: 1;}#sk-container-id-2 div.sk-label:hover label.sk-toggleable__label {background-color: #d4ebff;}#sk-container-id-2 div.sk-serial::before {content: \"\";position: absolute;border-left: 1px solid gray;box-sizing: border-box;top: 0;bottom: 0;left: 50%;z-index: 0;}#sk-container-id-2 div.sk-serial {display: flex;flex-direction: column;align-items: center;background-color: white;padding-right: 0.2em;padding-left: 0.2em;position: relative;}#sk-container-id-2 div.sk-item {position: relative;z-index: 1;}#sk-container-id-2 div.sk-parallel {display: flex;align-items: stretch;justify-content: center;background-color: white;position: relative;}#sk-container-id-2 div.sk-item::before, #sk-container-id-2 div.sk-parallel-item::before {content: \"\";position: absolute;border-left: 1px solid gray;box-sizing: border-box;top: 0;bottom: 0;left: 50%;z-index: -1;}#sk-container-id-2 div.sk-parallel-item {display: flex;flex-direction: column;z-index: 1;position: relative;background-color: white;}#sk-container-id-2 div.sk-parallel-item:first-child::after {align-self: flex-end;width: 50%;}#sk-container-id-2 div.sk-parallel-item:last-child::after {align-self: flex-start;width: 50%;}#sk-container-id-2 div.sk-parallel-item:only-child::after {width: 0;}#sk-container-id-2 div.sk-dashed-wrapped {border: 1px dashed gray;margin: 0 0.4em 0.5em 0.4em;box-sizing: border-box;padding-bottom: 0.4em;background-color: white;}#sk-container-id-2 div.sk-label label {font-family: monospace;font-weight: bold;display: inline-block;line-height: 1.2em;}#sk-container-id-2 div.sk-label-container {text-align: center;}#sk-container-id-2 div.sk-container {/* jupyter's `normalize.less` sets `[hidden] { display: none; }` but bootstrap.min.css set `[hidden] { display: none !important; }` so we also need the `!important` here to be able to override the default hidden behavior on the sphinx rendered scikit-learn.org. See: https://github.com/scikit-learn/scikit-learn/issues/21755 */display: inline-block !important;position: relative;}#sk-container-id-2 div.sk-text-repr-fallback {display: none;}</style><div id=\"sk-container-id-2\" class=\"sk-top-container\"><div class=\"sk-text-repr-fallback\"><pre>NeuralNetwork(algorithm=&#x27;gradient_descent&#x27;, clip_max=5, early_stopping=True,\n",
       "              hidden_nodes=[2], learning_rate=0.0001, max_attempts=100,\n",
       "              max_iters=1000, random_state=3)</pre><b>In a Jupyter environment, please rerun this cell to show the HTML representation or trust the notebook. <br />On GitHub, the HTML representation is unable to render, please try loading this page with nbviewer.org.</b></div><div class=\"sk-container\" hidden><div class=\"sk-item\"><div class=\"sk-estimator sk-toggleable\"><input class=\"sk-toggleable__control sk-hidden--visually\" id=\"sk-estimator-id-2\" type=\"checkbox\" checked><label for=\"sk-estimator-id-2\" class=\"sk-toggleable__label sk-toggleable__label-arrow\">NeuralNetwork</label><div class=\"sk-toggleable__content\"><pre>NeuralNetwork(algorithm=&#x27;gradient_descent&#x27;, clip_max=5, early_stopping=True,\n",
       "              hidden_nodes=[2], learning_rate=0.0001, max_attempts=100,\n",
       "              max_iters=1000, random_state=3)</pre></div></div></div></div></div>"
      ],
      "text/plain": [
       "NeuralNetwork(algorithm='gradient_descent', clip_max=5, early_stopping=True,\n",
       "              hidden_nodes=[2], learning_rate=0.0001, max_attempts=100,\n",
       "              max_iters=1000, random_state=3)"
      ]
     },
     "execution_count": 56,
     "metadata": {},
     "output_type": "execute_result"
    }
   ],
   "source": [
    "# Initialize neural network object and fit object - attempt 2\n",
    "nn_model2 = mlrose_hiive.NeuralNetwork(hidden_nodes = [2], activation = 'relu', \n",
    "                                 algorithm = 'gradient_descent', \n",
    "                                 max_iters = 1000, bias = True, is_classifier = True, \n",
    "                                 learning_rate = 0.0001, early_stopping = True, \n",
    "                                 clip_max = 5, max_attempts = 100, random_state = 3)\n",
    "\n",
    "nn_model2.fit(X_train_scaled, y_train_hot)"
   ]
  },
  {
   "cell_type": "code",
   "execution_count": 57,
   "metadata": {},
   "outputs": [
    {
     "name": "stdout",
     "output_type": "stream",
     "text": [
      "0.625\n"
     ]
    }
   ],
   "source": [
    "# Predict labels for train set and assess accuracy\n",
    "y_train_pred = nn_model2.predict(X_train_scaled)\n",
    "\n",
    "y_train_accuracy = accuracy_score(y_train_hot, y_train_pred)\n",
    "\n",
    "print(y_train_accuracy)"
   ]
  },
  {
   "cell_type": "code",
   "execution_count": 58,
   "metadata": {},
   "outputs": [
    {
     "name": "stdout",
     "output_type": "stream",
     "text": [
      "0.5666666666666667\n"
     ]
    }
   ],
   "source": [
    "# Predict labels for test set and assess accuracy\n",
    "y_test_pred = nn_model2.predict(X_test_scaled)\n",
    "\n",
    "y_test_accuracy = accuracy_score(y_test_hot, y_test_pred)\n",
    "\n",
    "print(y_test_accuracy)"
   ]
  },
  {
   "cell_type": "markdown",
   "metadata": {},
   "source": [
    "### Example 8: Fitting a Logistic Regression to the Iris Data using the NeuralNetwork() class"
   ]
  },
  {
   "cell_type": "code",
   "execution_count": 65,
   "metadata": {},
   "outputs": [
    {
     "data": {
      "text/html": [
       "<style>#sk-container-id-5 {color: black;background-color: white;}#sk-container-id-5 pre{padding: 0;}#sk-container-id-5 div.sk-toggleable {background-color: white;}#sk-container-id-5 label.sk-toggleable__label {cursor: pointer;display: block;width: 100%;margin-bottom: 0;padding: 0.3em;box-sizing: border-box;text-align: center;}#sk-container-id-5 label.sk-toggleable__label-arrow:before {content: \"▸\";float: left;margin-right: 0.25em;color: #696969;}#sk-container-id-5 label.sk-toggleable__label-arrow:hover:before {color: black;}#sk-container-id-5 div.sk-estimator:hover label.sk-toggleable__label-arrow:before {color: black;}#sk-container-id-5 div.sk-toggleable__content {max-height: 0;max-width: 0;overflow: hidden;text-align: left;background-color: #f0f8ff;}#sk-container-id-5 div.sk-toggleable__content pre {margin: 0.2em;color: black;border-radius: 0.25em;background-color: #f0f8ff;}#sk-container-id-5 input.sk-toggleable__control:checked~div.sk-toggleable__content {max-height: 200px;max-width: 100%;overflow: auto;}#sk-container-id-5 input.sk-toggleable__control:checked~label.sk-toggleable__label-arrow:before {content: \"▾\";}#sk-container-id-5 div.sk-estimator input.sk-toggleable__control:checked~label.sk-toggleable__label {background-color: #d4ebff;}#sk-container-id-5 div.sk-label input.sk-toggleable__control:checked~label.sk-toggleable__label {background-color: #d4ebff;}#sk-container-id-5 input.sk-hidden--visually {border: 0;clip: rect(1px 1px 1px 1px);clip: rect(1px, 1px, 1px, 1px);height: 1px;margin: -1px;overflow: hidden;padding: 0;position: absolute;width: 1px;}#sk-container-id-5 div.sk-estimator {font-family: monospace;background-color: #f0f8ff;border: 1px dotted black;border-radius: 0.25em;box-sizing: border-box;margin-bottom: 0.5em;}#sk-container-id-5 div.sk-estimator:hover {background-color: #d4ebff;}#sk-container-id-5 div.sk-parallel-item::after {content: \"\";width: 100%;border-bottom: 1px solid gray;flex-grow: 1;}#sk-container-id-5 div.sk-label:hover label.sk-toggleable__label {background-color: #d4ebff;}#sk-container-id-5 div.sk-serial::before {content: \"\";position: absolute;border-left: 1px solid gray;box-sizing: border-box;top: 0;bottom: 0;left: 50%;z-index: 0;}#sk-container-id-5 div.sk-serial {display: flex;flex-direction: column;align-items: center;background-color: white;padding-right: 0.2em;padding-left: 0.2em;position: relative;}#sk-container-id-5 div.sk-item {position: relative;z-index: 1;}#sk-container-id-5 div.sk-parallel {display: flex;align-items: stretch;justify-content: center;background-color: white;position: relative;}#sk-container-id-5 div.sk-item::before, #sk-container-id-5 div.sk-parallel-item::before {content: \"\";position: absolute;border-left: 1px solid gray;box-sizing: border-box;top: 0;bottom: 0;left: 50%;z-index: -1;}#sk-container-id-5 div.sk-parallel-item {display: flex;flex-direction: column;z-index: 1;position: relative;background-color: white;}#sk-container-id-5 div.sk-parallel-item:first-child::after {align-self: flex-end;width: 50%;}#sk-container-id-5 div.sk-parallel-item:last-child::after {align-self: flex-start;width: 50%;}#sk-container-id-5 div.sk-parallel-item:only-child::after {width: 0;}#sk-container-id-5 div.sk-dashed-wrapped {border: 1px dashed gray;margin: 0 0.4em 0.5em 0.4em;box-sizing: border-box;padding-bottom: 0.4em;background-color: white;}#sk-container-id-5 div.sk-label label {font-family: monospace;font-weight: bold;display: inline-block;line-height: 1.2em;}#sk-container-id-5 div.sk-label-container {text-align: center;}#sk-container-id-5 div.sk-container {/* jupyter's `normalize.less` sets `[hidden] { display: none; }` but bootstrap.min.css set `[hidden] { display: none !important; }` so we also need the `!important` here to be able to override the default hidden behavior on the sphinx rendered scikit-learn.org. See: https://github.com/scikit-learn/scikit-learn/issues/21755 */display: inline-block !important;position: relative;}#sk-container-id-5 div.sk-text-repr-fallback {display: none;}</style><div id=\"sk-container-id-5\" class=\"sk-top-container\"><div class=\"sk-text-repr-fallback\"><pre>NeuralNetwork(activation=&#x27;sigmoid&#x27;, clip_max=5, early_stopping=True,\n",
       "              hidden_nodes=[], learning_rate=0.0001, max_attempts=100,\n",
       "              max_iters=1000, random_state=3)</pre><b>In a Jupyter environment, please rerun this cell to show the HTML representation or trust the notebook. <br />On GitHub, the HTML representation is unable to render, please try loading this page with nbviewer.org.</b></div><div class=\"sk-container\" hidden><div class=\"sk-item\"><div class=\"sk-estimator sk-toggleable\"><input class=\"sk-toggleable__control sk-hidden--visually\" id=\"sk-estimator-id-5\" type=\"checkbox\" checked><label for=\"sk-estimator-id-5\" class=\"sk-toggleable__label sk-toggleable__label-arrow\">NeuralNetwork</label><div class=\"sk-toggleable__content\"><pre>NeuralNetwork(activation=&#x27;sigmoid&#x27;, clip_max=5, early_stopping=True,\n",
       "              hidden_nodes=[], learning_rate=0.0001, max_attempts=100,\n",
       "              max_iters=1000, random_state=3)</pre></div></div></div></div></div>"
      ],
      "text/plain": [
       "NeuralNetwork(activation='sigmoid', clip_max=5, early_stopping=True,\n",
       "              hidden_nodes=[], learning_rate=0.0001, max_attempts=100,\n",
       "              max_iters=1000, random_state=3)"
      ]
     },
     "execution_count": 65,
     "metadata": {},
     "output_type": "execute_result"
    }
   ],
   "source": [
    "# Initialize neural network object and fit object - attempt 1\n",
    "lr_nn_model1 = mlrose_hiive.NeuralNetwork(hidden_nodes = [], activation = 'sigmoid', \n",
    "                                    algorithm = 'random_hill_climb', \n",
    "                                    max_iters = 1000, bias = True, is_classifier = True, \n",
    "                                    learning_rate = 0.0001, early_stopping = True, \n",
    "                                    clip_max = 5, max_attempts = 100, random_state = 3)\n",
    "\n",
    "lr_nn_model1.fit(X_train_scaled, y_train_hot)"
   ]
  },
  {
   "cell_type": "code",
   "execution_count": 66,
   "metadata": {},
   "outputs": [
    {
     "name": "stdout",
     "output_type": "stream",
     "text": [
      "0.19166666666666668\n"
     ]
    }
   ],
   "source": [
    "# Predict labels for train set and assess accuracy\n",
    "y_train_pred = lr_nn_model1.predict(X_train_scaled)\n",
    "\n",
    "y_train_accuracy = accuracy_score(y_train_hot, y_train_pred)\n",
    "\n",
    "print(y_train_accuracy)"
   ]
  },
  {
   "cell_type": "code",
   "execution_count": 67,
   "metadata": {},
   "outputs": [
    {
     "name": "stdout",
     "output_type": "stream",
     "text": [
      "0.06666666666666667\n"
     ]
    }
   ],
   "source": [
    "# Predict labels for test set and assess accuracy\n",
    "y_test_pred = lr_nn_model1.predict(X_test_scaled)\n",
    "\n",
    "y_test_accuracy = accuracy_score(y_test_hot, y_test_pred)\n",
    "\n",
    "print(y_test_accuracy)"
   ]
  },
  {
   "cell_type": "code",
   "execution_count": 68,
   "metadata": {},
   "outputs": [
    {
     "data": {
      "text/html": [
       "<style>#sk-container-id-6 {color: black;background-color: white;}#sk-container-id-6 pre{padding: 0;}#sk-container-id-6 div.sk-toggleable {background-color: white;}#sk-container-id-6 label.sk-toggleable__label {cursor: pointer;display: block;width: 100%;margin-bottom: 0;padding: 0.3em;box-sizing: border-box;text-align: center;}#sk-container-id-6 label.sk-toggleable__label-arrow:before {content: \"▸\";float: left;margin-right: 0.25em;color: #696969;}#sk-container-id-6 label.sk-toggleable__label-arrow:hover:before {color: black;}#sk-container-id-6 div.sk-estimator:hover label.sk-toggleable__label-arrow:before {color: black;}#sk-container-id-6 div.sk-toggleable__content {max-height: 0;max-width: 0;overflow: hidden;text-align: left;background-color: #f0f8ff;}#sk-container-id-6 div.sk-toggleable__content pre {margin: 0.2em;color: black;border-radius: 0.25em;background-color: #f0f8ff;}#sk-container-id-6 input.sk-toggleable__control:checked~div.sk-toggleable__content {max-height: 200px;max-width: 100%;overflow: auto;}#sk-container-id-6 input.sk-toggleable__control:checked~label.sk-toggleable__label-arrow:before {content: \"▾\";}#sk-container-id-6 div.sk-estimator input.sk-toggleable__control:checked~label.sk-toggleable__label {background-color: #d4ebff;}#sk-container-id-6 div.sk-label input.sk-toggleable__control:checked~label.sk-toggleable__label {background-color: #d4ebff;}#sk-container-id-6 input.sk-hidden--visually {border: 0;clip: rect(1px 1px 1px 1px);clip: rect(1px, 1px, 1px, 1px);height: 1px;margin: -1px;overflow: hidden;padding: 0;position: absolute;width: 1px;}#sk-container-id-6 div.sk-estimator {font-family: monospace;background-color: #f0f8ff;border: 1px dotted black;border-radius: 0.25em;box-sizing: border-box;margin-bottom: 0.5em;}#sk-container-id-6 div.sk-estimator:hover {background-color: #d4ebff;}#sk-container-id-6 div.sk-parallel-item::after {content: \"\";width: 100%;border-bottom: 1px solid gray;flex-grow: 1;}#sk-container-id-6 div.sk-label:hover label.sk-toggleable__label {background-color: #d4ebff;}#sk-container-id-6 div.sk-serial::before {content: \"\";position: absolute;border-left: 1px solid gray;box-sizing: border-box;top: 0;bottom: 0;left: 50%;z-index: 0;}#sk-container-id-6 div.sk-serial {display: flex;flex-direction: column;align-items: center;background-color: white;padding-right: 0.2em;padding-left: 0.2em;position: relative;}#sk-container-id-6 div.sk-item {position: relative;z-index: 1;}#sk-container-id-6 div.sk-parallel {display: flex;align-items: stretch;justify-content: center;background-color: white;position: relative;}#sk-container-id-6 div.sk-item::before, #sk-container-id-6 div.sk-parallel-item::before {content: \"\";position: absolute;border-left: 1px solid gray;box-sizing: border-box;top: 0;bottom: 0;left: 50%;z-index: -1;}#sk-container-id-6 div.sk-parallel-item {display: flex;flex-direction: column;z-index: 1;position: relative;background-color: white;}#sk-container-id-6 div.sk-parallel-item:first-child::after {align-self: flex-end;width: 50%;}#sk-container-id-6 div.sk-parallel-item:last-child::after {align-self: flex-start;width: 50%;}#sk-container-id-6 div.sk-parallel-item:only-child::after {width: 0;}#sk-container-id-6 div.sk-dashed-wrapped {border: 1px dashed gray;margin: 0 0.4em 0.5em 0.4em;box-sizing: border-box;padding-bottom: 0.4em;background-color: white;}#sk-container-id-6 div.sk-label label {font-family: monospace;font-weight: bold;display: inline-block;line-height: 1.2em;}#sk-container-id-6 div.sk-label-container {text-align: center;}#sk-container-id-6 div.sk-container {/* jupyter's `normalize.less` sets `[hidden] { display: none; }` but bootstrap.min.css set `[hidden] { display: none !important; }` so we also need the `!important` here to be able to override the default hidden behavior on the sphinx rendered scikit-learn.org. See: https://github.com/scikit-learn/scikit-learn/issues/21755 */display: inline-block !important;position: relative;}#sk-container-id-6 div.sk-text-repr-fallback {display: none;}</style><div id=\"sk-container-id-6\" class=\"sk-top-container\"><div class=\"sk-text-repr-fallback\"><pre>NeuralNetwork(activation=&#x27;sigmoid&#x27;, clip_max=5, early_stopping=True,\n",
       "              hidden_nodes=[], learning_rate=0.01, max_attempts=100,\n",
       "              max_iters=1000, random_state=3)</pre><b>In a Jupyter environment, please rerun this cell to show the HTML representation or trust the notebook. <br />On GitHub, the HTML representation is unable to render, please try loading this page with nbviewer.org.</b></div><div class=\"sk-container\" hidden><div class=\"sk-item\"><div class=\"sk-estimator sk-toggleable\"><input class=\"sk-toggleable__control sk-hidden--visually\" id=\"sk-estimator-id-6\" type=\"checkbox\" checked><label for=\"sk-estimator-id-6\" class=\"sk-toggleable__label sk-toggleable__label-arrow\">NeuralNetwork</label><div class=\"sk-toggleable__content\"><pre>NeuralNetwork(activation=&#x27;sigmoid&#x27;, clip_max=5, early_stopping=True,\n",
       "              hidden_nodes=[], learning_rate=0.01, max_attempts=100,\n",
       "              max_iters=1000, random_state=3)</pre></div></div></div></div></div>"
      ],
      "text/plain": [
       "NeuralNetwork(activation='sigmoid', clip_max=5, early_stopping=True,\n",
       "              hidden_nodes=[], learning_rate=0.01, max_attempts=100,\n",
       "              max_iters=1000, random_state=3)"
      ]
     },
     "execution_count": 68,
     "metadata": {},
     "output_type": "execute_result"
    }
   ],
   "source": [
    "# Initialize neural network object and fit object - attempt 2\n",
    "lr_nn_model2 = mlrose_hiive.NeuralNetwork(hidden_nodes = [], activation = 'sigmoid', \n",
    "                                    algorithm = 'random_hill_climb', \n",
    "                                    max_iters = 1000, bias = True, is_classifier = True, \n",
    "                                    learning_rate = 0.01, early_stopping = True, \n",
    "                                    clip_max = 5, max_attempts = 100, random_state = 3)\n",
    "\n",
    "lr_nn_model2.fit(X_train_scaled, y_train_hot)"
   ]
  },
  {
   "cell_type": "code",
   "execution_count": 69,
   "metadata": {},
   "outputs": [
    {
     "name": "stdout",
     "output_type": "stream",
     "text": [
      "0.6833333333333333\n"
     ]
    }
   ],
   "source": [
    "# Predict labels for train set and assess accuracy\n",
    "y_train_pred = lr_nn_model2.predict(X_train_scaled)\n",
    "\n",
    "y_train_accuracy = accuracy_score(y_train_hot, y_train_pred)\n",
    "\n",
    "print(y_train_accuracy)"
   ]
  },
  {
   "cell_type": "code",
   "execution_count": 70,
   "metadata": {},
   "outputs": [
    {
     "name": "stdout",
     "output_type": "stream",
     "text": [
      "0.7\n"
     ]
    }
   ],
   "source": [
    "# Predict labels for test set and assess accuracy\n",
    "y_test_pred = lr_nn_model2.predict(X_test_scaled)\n",
    "\n",
    "y_test_accuracy = accuracy_score(y_test_hot, y_test_pred)\n",
    "\n",
    "print(y_test_accuracy)"
   ]
  },
  {
   "cell_type": "markdown",
   "metadata": {},
   "source": [
    "## Flipflop Problem Implementations"
   ]
  },
  {
   "cell_type": "code",
   "execution_count": 160,
   "metadata": {},
   "outputs": [],
   "source": [
    "# Initialize fitness function object using pre-defined class FlipFlop\n",
    "fitness = mlrose_hiive.FlipFlop()"
   ]
  },
  {
   "cell_type": "code",
   "execution_count": 161,
   "metadata": {},
   "outputs": [],
   "source": [
    "# Define optimization problem object\n",
    "SIZE = 32\n",
    "problem = mlrose_hiive.DiscreteOpt(length = SIZE, fitness_fn = fitness, maximize=True, max_val=2)"
   ]
  },
  {
   "cell_type": "markdown",
   "metadata": {},
   "source": [
    "### Random Hill Climbing"
   ]
  },
  {
   "cell_type": "code",
   "execution_count": 162,
   "metadata": {},
   "outputs": [
    {
     "name": "stdout",
     "output_type": "stream",
     "text": [
      "[[2. 2.]\n",
      " [4. 4.]\n",
      " [4. 5.]]\n"
     ]
    }
   ],
   "source": [
    "# Solve using randomized hill climbing - attempt 1 (1 random attempt)\n",
    "init_state = np.zeros(32)\n",
    "best_state, best_fitness, fitness_curve = mlrose_hiive.random_hill_climb(problem, max_attempts=1, max_iters=10, restarts=1, init_state=init_state, curve=True, random_state=1)\n",
    "print(fitness_curve)"
   ]
  },
  {
   "cell_type": "code",
   "execution_count": 249,
   "metadata": {},
   "outputs": [
    {
     "name": "stdout",
     "output_type": "stream",
     "text": [
      "The best state found is:  [0. 0. 0. 0. 0. 1. 0. 0. 0. 0. 0. 1. 0. 0. 0. 0. 0. 0. 0. 0. 0. 0. 0. 0.\n",
      " 0. 0. 0. 0. 0. 0. 0. 0.]\n"
     ]
    }
   ],
   "source": [
    "print('The best state found is: ', best_state)"
   ]
  },
  {
   "cell_type": "code",
   "execution_count": 250,
   "metadata": {},
   "outputs": [
    {
     "name": "stdout",
     "output_type": "stream",
     "text": [
      "The fitness at the best state is:  4.0\n"
     ]
    }
   ],
   "source": [
    "print('The fitness at the best state is: ', best_fitness)"
   ]
  },
  {
   "cell_type": "code",
   "execution_count": 164,
   "metadata": {},
   "outputs": [
    {
     "name": "stdout",
     "output_type": "stream",
     "text": [
      "[[  2. 127.]\n",
      " [  4. 129.]\n",
      " [  6. 131.]\n",
      " [  8. 133.]\n",
      " [ 10. 135.]\n",
      " [ 12. 137.]\n",
      " [ 12. 138.]]\n"
     ]
    }
   ],
   "source": [
    "# Solve using randomized hill climbing - attempt 2 (10 random attempts)\n",
    "init_state = np.zeros(32)\n",
    "best_state, best_fitness, fitness_curve = mlrose_hiive.random_hill_climb(problem, max_attempts=1, max_iters=10, restarts=10, init_state=init_state, curve=True, random_state=1)\n",
    "print(fitness_curve)"
   ]
  },
  {
   "cell_type": "code",
   "execution_count": 252,
   "metadata": {},
   "outputs": [
    {
     "name": "stdout",
     "output_type": "stream",
     "text": [
      "The fitness at the best state is:  12.0\n"
     ]
    }
   ],
   "source": [
    "print('The fitness at the best state is: ', best_fitness)"
   ]
  },
  {
   "cell_type": "code",
   "execution_count": 253,
   "metadata": {},
   "outputs": [
    {
     "name": "stdout",
     "output_type": "stream",
     "text": [
      "The best state found is:  [0. 0. 0. 0. 0. 0. 1. 0. 0. 0. 0. 0. 0. 0. 0. 0. 0. 0. 1. 0. 1. 0. 0. 0.\n",
      " 0. 1. 0. 0. 1. 0. 1. 0.]\n"
     ]
    }
   ],
   "source": [
    "print('The best state found is: ', best_state)"
   ]
  },
  {
   "cell_type": "markdown",
   "metadata": {},
   "source": [
    "### Simulated Annealing implementation"
   ]
  },
  {
   "cell_type": "code",
   "execution_count": 254,
   "metadata": {},
   "outputs": [],
   "source": [
    "# Define decay schedule\n",
    "schedule = mlrose_hiive.ExpDecay()"
   ]
  },
  {
   "cell_type": "code",
   "execution_count": 165,
   "metadata": {},
   "outputs": [
    {
     "name": "stdout",
     "output_type": "stream",
     "text": [
      "[[  2. 191.]\n",
      " [  4. 193.]\n",
      " [  4. 195.]\n",
      " [  6. 197.]\n",
      " [  6. 199.]\n",
      " [  7. 201.]\n",
      " [  9. 203.]\n",
      " [  9. 205.]\n",
      " [  9. 207.]\n",
      " [ 11. 209.]]\n"
     ]
    }
   ],
   "source": [
    "# Solve using simulated annealing - attempt 1 (maximum 10 iterations)\n",
    "init_state = np.zeros(SIZE)\n",
    "best_state, best_fitness, fitness_curve = mlrose_hiive.simulated_annealing(problem, schedule = schedule, max_attempts = 10, \n",
    "                                                      max_iters = 10, init_state = init_state,\n",
    "                                                      random_state = 1, curve=True)\n",
    "print(fitness_curve)"
   ]
  },
  {
   "cell_type": "code",
   "execution_count": 256,
   "metadata": {},
   "outputs": [
    {
     "name": "stdout",
     "output_type": "stream",
     "text": [
      "The best state found is:  [1. 1. 0. 0. 0. 1. 0. 0. 0. 1. 0. 0. 1. 1. 0. 0. 1. 0. 0. 0. 0. 0. 0. 0.\n",
      " 0. 1. 0. 0. 0. 0. 0. 0.]\n"
     ]
    }
   ],
   "source": [
    "print('The best state found is: ', best_state)"
   ]
  },
  {
   "cell_type": "code",
   "execution_count": 257,
   "metadata": {},
   "outputs": [
    {
     "name": "stdout",
     "output_type": "stream",
     "text": [
      "The fitness at the best state is:  11.0\n"
     ]
    }
   ],
   "source": [
    "print('The fitness at the best state is: ', best_fitness)"
   ]
  },
  {
   "cell_type": "code",
   "execution_count": 166,
   "metadata": {},
   "outputs": [
    {
     "name": "stdout",
     "output_type": "stream",
     "text": [
      "[[  2. 212.]\n",
      " [  4. 214.]\n",
      " [  4. 216.]\n",
      " [  6. 218.]\n",
      " [  6. 220.]\n",
      " [  7. 222.]\n",
      " [  9. 224.]\n",
      " [  9. 226.]\n",
      " [  9. 228.]\n",
      " [ 11. 230.]\n",
      " [ 13. 232.]\n",
      " [ 15. 234.]\n",
      " [ 17. 236.]\n",
      " [ 17. 237.]\n",
      " [ 17. 239.]\n",
      " [ 19. 241.]\n",
      " [ 19. 242.]\n",
      " [ 19. 244.]\n",
      " [ 19. 245.]\n",
      " [ 19. 246.]\n",
      " [ 19. 248.]\n",
      " [ 21. 250.]\n",
      " [ 20. 252.]\n",
      " [ 20. 253.]\n",
      " [ 20. 254.]\n",
      " [ 20. 256.]\n",
      " [ 20. 258.]\n",
      " [ 18. 260.]\n",
      " [ 18. 262.]\n",
      " [ 18. 263.]\n",
      " [ 20. 265.]\n",
      " [ 20. 267.]\n",
      " [ 20. 269.]\n",
      " [ 20. 271.]\n",
      " [ 20. 273.]\n",
      " [ 21. 275.]\n",
      " [ 21. 276.]\n",
      " [ 21. 277.]\n",
      " [ 21. 279.]\n",
      " [ 23. 281.]\n",
      " [ 23. 283.]\n",
      " [ 23. 285.]\n",
      " [ 23. 286.]\n",
      " [ 23. 288.]\n",
      " [ 25. 290.]\n",
      " [ 24. 292.]\n",
      " [ 24. 294.]\n",
      " [ 24. 296.]\n",
      " [ 24. 297.]\n",
      " [ 24. 299.]\n",
      " [ 26. 301.]\n",
      " [ 26. 302.]\n",
      " [ 26. 304.]\n",
      " [ 27. 306.]\n",
      " [ 27. 307.]\n",
      " [ 27. 308.]\n",
      " [ 27. 309.]\n",
      " [ 27. 310.]\n",
      " [ 27. 311.]\n",
      " [ 27. 312.]\n",
      " [ 27. 313.]\n",
      " [ 27. 314.]\n",
      " [ 27. 315.]\n",
      " [ 27. 316.]]\n"
     ]
    }
   ],
   "source": [
    "# Solve using simulated annealing - attempt 2 (maximum 100 iterations)\n",
    "init_state = np.zeros(SIZE)\n",
    "best_state, best_fitness, fitness_curve = mlrose_hiive.simulated_annealing(problem, schedule = schedule, max_attempts = 10, \n",
    "                                                      max_iters = 100, init_state = init_state,  curve = True,\n",
    "                                                      random_state = 1)\n",
    "print(fitness_curve)"
   ]
  },
  {
   "cell_type": "code",
   "execution_count": 259,
   "metadata": {},
   "outputs": [
    {
     "name": "stdout",
     "output_type": "stream",
     "text": [
      "The best state found is:  [0. 1. 0. 1. 0. 1. 0. 1. 0. 1. 0. 1. 0. 0. 0. 1. 0. 1. 1. 0. 1. 0. 1. 0.\n",
      " 1. 0. 1. 0. 1. 0. 1. 1.]\n"
     ]
    }
   ],
   "source": [
    "print('The best state found is: ', best_state)"
   ]
  },
  {
   "cell_type": "code",
   "execution_count": 260,
   "metadata": {},
   "outputs": [
    {
     "name": "stdout",
     "output_type": "stream",
     "text": [
      "The fitness at the best state is:  27.0\n"
     ]
    }
   ],
   "source": [
    "print('The fitness at the best state is: ', best_fitness)"
   ]
  },
  {
   "cell_type": "markdown",
   "metadata": {},
   "source": [
    "### Genetic Algorithm"
   ]
  },
  {
   "cell_type": "code",
   "execution_count": 169,
   "metadata": {},
   "outputs": [
    {
     "name": "stdout",
     "output_type": "stream",
     "text": [
      "[[ 19.  22.]\n",
      " [ 19.  33.]\n",
      " [ 21.  45.]\n",
      " [ 21.  56.]\n",
      " [ 21.  67.]\n",
      " [ 21.  78.]\n",
      " [ 21.  89.]\n",
      " [ 21. 100.]\n",
      " [ 21. 111.]\n",
      " [ 21. 122.]]\n"
     ]
    }
   ],
   "source": [
    "# Solve using simulated annealing - attempt 1 (maximum 10 iterations)\n",
    "init_state = np.zeros(SIZE)\n",
    "best_state, best_fitness, fitness_curve = mlrose_hiive.genetic_alg(problem, pop_size=10, mutation_prob=0.1, max_attempts=10, max_iters=10, curve=True, random_state=1)\n",
    "print(fitness_curve)"
   ]
  },
  {
   "cell_type": "code",
   "execution_count": 262,
   "metadata": {},
   "outputs": [
    {
     "name": "stdout",
     "output_type": "stream",
     "text": [
      "The best state found is:  [1 1 0 1 0 1 0 0 1 0 0 1 0 1 0 0 0 1 0 0 0 1 1 1 0 1 0 0 1 0 1 0]\n"
     ]
    }
   ],
   "source": [
    "print('The best state found is: ', best_state)"
   ]
  },
  {
   "cell_type": "code",
   "execution_count": 263,
   "metadata": {},
   "outputs": [
    {
     "name": "stdout",
     "output_type": "stream",
     "text": [
      "The fitness at the best state is:  21.0\n"
     ]
    }
   ],
   "source": [
    "print('The fitness at the best state is: ', best_fitness)"
   ]
  },
  {
   "cell_type": "code",
   "execution_count": 170,
   "metadata": {},
   "outputs": [
    {
     "name": "stdout",
     "output_type": "stream",
     "text": [
      "[[ 19.  22.]\n",
      " [ 19.  33.]\n",
      " [ 21.  45.]\n",
      " [ 21.  56.]\n",
      " [ 21.  67.]\n",
      " [ 21.  78.]\n",
      " [ 21.  89.]\n",
      " [ 21. 100.]\n",
      " [ 21. 111.]\n",
      " [ 21. 122.]\n",
      " [ 23. 134.]\n",
      " [ 23. 145.]\n",
      " [ 23. 156.]\n",
      " [ 23. 167.]\n",
      " [ 23. 178.]\n",
      " [ 24. 190.]\n",
      " [ 24. 201.]\n",
      " [ 24. 212.]\n",
      " [ 24. 223.]\n",
      " [ 24. 234.]]\n"
     ]
    }
   ],
   "source": [
    "# Solve using simulated annealing - attempt 2 (maximum 20 iterations)\n",
    "init_state = np.zeros(SIZE)\n",
    "best_state, best_fitness, fitness_curve = mlrose_hiive.genetic_alg(problem, pop_size=10, mutation_prob=0.1, max_attempts=10, max_iters=20, curve=True, random_state=1)\n",
    "print(fitness_curve)"
   ]
  },
  {
   "cell_type": "code",
   "execution_count": 265,
   "metadata": {},
   "outputs": [
    {
     "name": "stdout",
     "output_type": "stream",
     "text": [
      "The best state found is:  [0 0 1 0 0 1 0 0 1 0 1 0 1 1 0 1 0 1 0 1 0 1 1 1 0 1 1 0 1 0 1 0]\n"
     ]
    }
   ],
   "source": [
    "print('The best state found is: ', best_state)"
   ]
  },
  {
   "cell_type": "code",
   "execution_count": 266,
   "metadata": {},
   "outputs": [
    {
     "name": "stdout",
     "output_type": "stream",
     "text": [
      "The fitness at the best state is:  24.0\n"
     ]
    }
   ],
   "source": [
    "print('The fitness at the best state is: ', best_fitness)"
   ]
  },
  {
   "cell_type": "markdown",
   "metadata": {},
   "source": [
    "### MIMIC"
   ]
  },
  {
   "cell_type": "code",
   "execution_count": 171,
   "metadata": {},
   "outputs": [
    {
     "name": "stdout",
     "output_type": "stream",
     "text": [
      "[[ 23.  42.]\n",
      " [ 23.  63.]\n",
      " [ 23.  84.]\n",
      " [ 23. 105.]\n",
      " [ 23. 126.]\n",
      " [ 23. 147.]\n",
      " [ 23. 168.]\n",
      " [ 23. 189.]\n",
      " [ 23. 210.]\n",
      " [ 23. 231.]]\n"
     ]
    }
   ],
   "source": [
    "# Solve using simulated annealing - attempt 1 (population size 20, maximum 10 attempts, maximum 10 iterations)\n",
    "init_state = np.zeros(SIZE)\n",
    "best_state, best_fitness, fitness_curve = mlrose_hiive.mimic(problem, pop_size=20, keep_pct=0.2, max_attempts=10, max_iters=10, curve=True, random_state=1)\n",
    "print(fitness_curve)"
   ]
  },
  {
   "cell_type": "code",
   "execution_count": 268,
   "metadata": {},
   "outputs": [
    {
     "name": "stdout",
     "output_type": "stream",
     "text": [
      "The best state found is:  [0 1 0 0 1 0 1 0 0 1 0 1 1 0 1 1 1 0 1 0 1 0 1 0 1 0 1 1 0 0 0 1]\n"
     ]
    }
   ],
   "source": [
    "print('The best state found is: ', best_state)"
   ]
  },
  {
   "cell_type": "code",
   "execution_count": 269,
   "metadata": {},
   "outputs": [
    {
     "name": "stdout",
     "output_type": "stream",
     "text": [
      "The fitness at the best state is:  23.0\n"
     ]
    }
   ],
   "source": [
    "print('The fitness at the best state is: ', best_fitness)"
   ]
  },
  {
   "cell_type": "code",
   "execution_count": 172,
   "metadata": {},
   "outputs": [
    {
     "name": "stdout",
     "output_type": "stream",
     "text": [
      "[[  23.   42.]\n",
      " [  23.   63.]\n",
      " [  23.   84.]\n",
      " [  23.  105.]\n",
      " [  23.  126.]\n",
      " [  23.  147.]\n",
      " [  23.  168.]\n",
      " [  23.  189.]\n",
      " [  23.  210.]\n",
      " [  23.  231.]\n",
      " [  23.  252.]\n",
      " [  23.  273.]\n",
      " [  23.  294.]\n",
      " [  23.  315.]\n",
      " [  23.  336.]\n",
      " [  23.  357.]\n",
      " [  23.  378.]\n",
      " [  23.  399.]\n",
      " [  23.  420.]\n",
      " [  23.  441.]\n",
      " [  23.  462.]\n",
      " [  23.  483.]\n",
      " [  23.  504.]\n",
      " [  23.  525.]\n",
      " [  23.  546.]\n",
      " [  23.  567.]\n",
      " [  23.  588.]\n",
      " [  23.  609.]\n",
      " [  23.  630.]\n",
      " [  23.  651.]\n",
      " [  23.  672.]\n",
      " [  23.  693.]\n",
      " [  23.  714.]\n",
      " [  23.  735.]\n",
      " [  23.  756.]\n",
      " [  23.  777.]\n",
      " [  23.  798.]\n",
      " [  23.  819.]\n",
      " [  23.  840.]\n",
      " [  23.  861.]\n",
      " [  23.  882.]\n",
      " [  23.  903.]\n",
      " [  23.  924.]\n",
      " [  23.  945.]\n",
      " [  23.  966.]\n",
      " [  23.  987.]\n",
      " [  23. 1008.]\n",
      " [  23. 1029.]\n",
      " [  23. 1050.]\n",
      " [  23. 1071.]\n",
      " [  23. 1092.]\n",
      " [  23. 1113.]\n",
      " [  23. 1134.]\n",
      " [  23. 1155.]\n",
      " [  23. 1176.]\n",
      " [  23. 1197.]\n",
      " [  23. 1218.]\n",
      " [  23. 1239.]\n",
      " [  23. 1260.]\n",
      " [  23. 1281.]\n",
      " [  23. 1302.]\n",
      " [  23. 1323.]\n",
      " [  23. 1344.]\n",
      " [  23. 1365.]\n",
      " [  23. 1386.]\n",
      " [  23. 1407.]\n",
      " [  23. 1428.]\n",
      " [  23. 1449.]\n",
      " [  23. 1470.]\n",
      " [  23. 1491.]\n",
      " [  23. 1512.]\n",
      " [  23. 1533.]\n",
      " [  23. 1554.]\n",
      " [  23. 1575.]\n",
      " [  23. 1596.]\n",
      " [  23. 1617.]\n",
      " [  23. 1638.]\n",
      " [  23. 1659.]\n",
      " [  23. 1680.]\n",
      " [  23. 1701.]\n",
      " [  23. 1722.]\n",
      " [  23. 1743.]\n",
      " [  23. 1764.]\n",
      " [  23. 1785.]\n",
      " [  23. 1806.]\n",
      " [  23. 1827.]\n",
      " [  23. 1848.]\n",
      " [  23. 1869.]\n",
      " [  23. 1890.]\n",
      " [  23. 1911.]\n",
      " [  23. 1932.]\n",
      " [  23. 1953.]\n",
      " [  23. 1974.]\n",
      " [  23. 1995.]\n",
      " [  23. 2016.]\n",
      " [  23. 2037.]\n",
      " [  23. 2058.]\n",
      " [  23. 2079.]\n",
      " [  23. 2100.]\n",
      " [  23. 2121.]]\n"
     ]
    }
   ],
   "source": [
    "# Solve using simulated annealing - attempt 2 (population size 20, maximum 100 attempts, maximum 100 iterations)\n",
    "init_state = np.zeros(SIZE)\n",
    "best_state, best_fitness, fitness_curve = mlrose_hiive.mimic(problem, pop_size=20, keep_pct=0.2, max_attempts=100, max_iters=100, curve=True, random_state=1)\n",
    "print(fitness_curve)"
   ]
  },
  {
   "cell_type": "code",
   "execution_count": 173,
   "metadata": {},
   "outputs": [
    {
     "name": "stdout",
     "output_type": "stream",
     "text": [
      "The best state found is:  [0 1 0 0 1 0 1 0 0 1 0 1 1 0 1 1 1 0 1 0 1 0 1 0 1 0 1 1 0 0 0 1]\n"
     ]
    }
   ],
   "source": [
    "print('The best state found is: ', best_state)"
   ]
  },
  {
   "cell_type": "code",
   "execution_count": 174,
   "metadata": {},
   "outputs": [
    {
     "name": "stdout",
     "output_type": "stream",
     "text": [
      "The fitness at the best state is:  23.0\n"
     ]
    }
   ],
   "source": [
    "print('The fitness at the best state is: ', best_fitness)"
   ]
  },
  {
   "cell_type": "code",
   "execution_count": 175,
   "metadata": {},
   "outputs": [
    {
     "name": "stdout",
     "output_type": "stream",
     "text": [
      "[[ 23.  82.]\n",
      " [ 25. 124.]\n",
      " [ 25. 165.]\n",
      " [ 25. 206.]\n",
      " [ 25. 247.]\n",
      " [ 25. 288.]\n",
      " [ 25. 329.]\n",
      " [ 25. 370.]\n",
      " [ 25. 411.]\n",
      " [ 25. 452.]]\n"
     ]
    }
   ],
   "source": [
    "# Solve using simulated annealing - attempt 3 (population size 40, maximum 100 attempts, maximum 100 iterations)\n",
    "init_state = np.zeros(SIZE)\n",
    "best_state, best_fitness, fitness_curve = mlrose_hiive.mimic(problem, pop_size=40, keep_pct=0.2, max_attempts=10, max_iters=10, curve=True, random_state=1)\n",
    "print(fitness_curve)"
   ]
  },
  {
   "cell_type": "code",
   "execution_count": 274,
   "metadata": {},
   "outputs": [
    {
     "name": "stdout",
     "output_type": "stream",
     "text": [
      "The best state found is:  [1 0 1 1 0 1 0 1 1 0 1 0 0 1 0 1 0 1 0 1 0 1 0 0 1 1 0 0 1 0 1 0]\n"
     ]
    }
   ],
   "source": [
    "print('The best state found is: ', best_state)"
   ]
  },
  {
   "cell_type": "code",
   "execution_count": 275,
   "metadata": {},
   "outputs": [
    {
     "name": "stdout",
     "output_type": "stream",
     "text": [
      "The fitness at the best state is:  25.0\n"
     ]
    }
   ],
   "source": [
    "print('The fitness at the best state is: ', best_fitness)"
   ]
  },
  {
   "cell_type": "code",
   "execution_count": 176,
   "metadata": {},
   "outputs": [
    {
     "name": "stdout",
     "output_type": "stream",
     "text": [
      "[[  23.  202.]\n",
      " [  23.  303.]\n",
      " [  23.  404.]\n",
      " [  25.  506.]\n",
      " [  25.  607.]\n",
      " [  27.  709.]\n",
      " [  27.  810.]\n",
      " [  27.  911.]\n",
      " [  27. 1012.]\n",
      " [  27. 1113.]]\n"
     ]
    }
   ],
   "source": [
    "# Solve using simulated annealing - attempt 4 (population size 100, maximum 100 attempts, maximum 100 iterations)\n",
    "init_state = np.zeros(SIZE)\n",
    "best_state, best_fitness, fitness_curve = mlrose_hiive.mimic(problem, pop_size=100, keep_pct=0.2, max_attempts=10, max_iters=10, curve=True, random_state=1)\n",
    "print(fitness_curve)"
   ]
  },
  {
   "cell_type": "code",
   "execution_count": 277,
   "metadata": {},
   "outputs": [
    {
     "name": "stdout",
     "output_type": "stream",
     "text": [
      "The best state found is:  [0 0 1 0 1 0 1 0 1 0 1 0 1 0 1 1 0 1 0 1 0 0 1 0 1 0 0 1 0 1 0 1]\n"
     ]
    }
   ],
   "source": [
    "print('The best state found is: ', best_state)"
   ]
  },
  {
   "cell_type": "code",
   "execution_count": 278,
   "metadata": {},
   "outputs": [
    {
     "name": "stdout",
     "output_type": "stream",
     "text": [
      "The fitness at the best state is:  27.0\n"
     ]
    }
   ],
   "source": [
    "print('The fitness at the best state is: ', best_fitness)"
   ]
  },
  {
   "cell_type": "code",
   "execution_count": 177,
   "metadata": {},
   "outputs": [
    {
     "name": "stdout",
     "output_type": "stream",
     "text": [
      "[[  27.  402.]\n",
      " [  27.  603.]\n",
      " [  28.  805.]\n",
      " [  30. 1007.]\n",
      " [  30. 1208.]\n",
      " [  30. 1409.]\n",
      " [  30. 1610.]\n",
      " [  30. 1811.]\n",
      " [  30. 2012.]\n",
      " [  30. 2213.]]\n"
     ]
    }
   ],
   "source": [
    "# Solve using simulated annealing - attempt 5 (population size 200, maximum 100 attempts, maximum 100 iterations)\n",
    "init_state = np.zeros(SIZE)\n",
    "best_state, best_fitness, fitness_curve = mlrose_hiive.mimic(problem, pop_size=200, keep_pct=0.2, max_attempts=10, max_iters=10, curve=True, random_state=1)\n",
    "print(fitness_curve)"
   ]
  },
  {
   "cell_type": "code",
   "execution_count": 280,
   "metadata": {},
   "outputs": [
    {
     "name": "stdout",
     "output_type": "stream",
     "text": [
      "The best state found is:  [1 0 1 0 1 0 1 0 1 0 1 1 0 1 0 1 0 1 0 1 0 1 0 1 0 1 0 1 0 1 0 1]\n"
     ]
    }
   ],
   "source": [
    "print('The best state found is: ', best_state)"
   ]
  },
  {
   "cell_type": "code",
   "execution_count": 281,
   "metadata": {},
   "outputs": [
    {
     "name": "stdout",
     "output_type": "stream",
     "text": [
      "The fitness at the best state is:  30.0\n"
     ]
    }
   ],
   "source": [
    "print('The fitness at the best state is: ', best_fitness)"
   ]
  },
  {
   "cell_type": "markdown",
   "metadata": {},
   "source": [
    "## Traveling Salesman Problem (TSP) Using Coordinate-Defined Fitness Function"
   ]
  },
  {
   "cell_type": "code",
   "execution_count": 179,
   "metadata": {},
   "outputs": [
    {
     "name": "stdout",
     "output_type": "stream",
     "text": [
      "[(3, 4), (6, 7), (0, 1), (6, 7), (1, 2), (6, 3), (2, 6), (2, 3)]\n"
     ]
    }
   ],
   "source": [
    "rng = np.random.default_rng(1)\n",
    "\n",
    "# Create list of city coordinates\n",
    "CITIES = 8\n",
    "coordinates = rng.integers(low=0, high=CITIES, size=(CITIES,2))\n",
    "coords_list = [(c[0], c[1]) for c in coordinates]\n",
    "print(coords_list)\n",
    "\n",
    "# Initialize fitness function object using coords_list\n",
    "fitness_coords = mlrose_hiive.TravellingSales(coords = coords_list)"
   ]
  },
  {
   "cell_type": "code",
   "execution_count": 180,
   "metadata": {},
   "outputs": [],
   "source": [
    "# Define optimization problem object\n",
    "problem = mlrose_hiive.TSPOpt(length = 8, fitness_fn = fitness_coords, maximize = True)"
   ]
  },
  {
   "cell_type": "markdown",
   "metadata": {},
   "source": [
    "### Randomized Hill Climbing"
   ]
  },
  {
   "cell_type": "code",
   "execution_count": 181,
   "metadata": {},
   "outputs": [
    {
     "name": "stdout",
     "output_type": "stream",
     "text": [
      "[[-42.35424201   2.        ]\n",
      " [-31.04053351   4.        ]\n",
      " [-31.04053351   5.        ]\n",
      " [-31.00401013   7.        ]\n",
      " [-27.99743742   9.        ]\n",
      " [-27.99743742  10.        ]\n",
      " [-27.99743742  11.        ]\n",
      " [-25.1690103   13.        ]\n",
      " [-25.1690103   14.        ]\n",
      " [-25.1690103   15.        ]]\n"
     ]
    }
   ],
   "source": [
    "# Solve using randomized hill climbing - attempt 1 (1 random attempt)\n",
    "init_state = [i for i in range(0,CITIES)]\n",
    "best_state, best_fitness, fitness_curve = mlrose_hiive.random_hill_climb(problem, max_attempts=10, max_iters=10, restarts=1, init_state=init_state, curve=True, random_state=1)\n",
    "print(fitness_curve)"
   ]
  },
  {
   "cell_type": "code",
   "execution_count": 11,
   "metadata": {},
   "outputs": [
    {
     "name": "stdout",
     "output_type": "stream",
     "text": [
      "The best state found is:  [5 1 3 7 0 6 4 2]\n"
     ]
    }
   ],
   "source": [
    "print('The best state found is: ', best_state)"
   ]
  },
  {
   "cell_type": "code",
   "execution_count": 12,
   "metadata": {},
   "outputs": [
    {
     "name": "stdout",
     "output_type": "stream",
     "text": [
      "The fitness at the best state is:  -25.16901029769278\n"
     ]
    }
   ],
   "source": [
    "print('The fitness at the best state is: ', best_fitness)"
   ]
  },
  {
   "cell_type": "code",
   "execution_count": 182,
   "metadata": {},
   "outputs": [
    {
     "name": "stdout",
     "output_type": "stream",
     "text": [
      "[[-34.627417   168.        ]\n",
      " [-34.627417   169.        ]\n",
      " [-31.17758197 171.        ]\n",
      " [-22.6923006  173.        ]\n",
      " [-22.6923006  174.        ]\n",
      " [-22.6923006  175.        ]\n",
      " [-22.6923006  176.        ]\n",
      " [-22.6923006  177.        ]\n",
      " [-22.6923006  178.        ]\n",
      " [-22.6923006  179.        ]]\n"
     ]
    }
   ],
   "source": [
    "# Solve using randomized hill climbing - attempt 2 (10 random attempts)\n",
    "init_state = [i for i in range(0,CITIES)]\n",
    "best_state, best_fitness, fitness_curve = mlrose_hiive.random_hill_climb(problem, max_attempts=10, max_iters=10, restarts=10, init_state=init_state, curve=True, random_state=1)\n",
    "print(fitness_curve)"
   ]
  },
  {
   "cell_type": "code",
   "execution_count": 14,
   "metadata": {},
   "outputs": [
    {
     "name": "stdout",
     "output_type": "stream",
     "text": [
      "The best state found is:  [0 6 2 4 7 5 1 3]\n"
     ]
    }
   ],
   "source": [
    "print('The best state found is: ', best_state)"
   ]
  },
  {
   "cell_type": "code",
   "execution_count": 15,
   "metadata": {},
   "outputs": [
    {
     "name": "stdout",
     "output_type": "stream",
     "text": [
      "The fitness at the best state is:  -22.69230059649977\n"
     ]
    }
   ],
   "source": [
    "print('The fitness at the best state is: ', best_fitness)"
   ]
  },
  {
   "cell_type": "markdown",
   "metadata": {},
   "source": [
    "### Simulated Annealing implementation"
   ]
  },
  {
   "cell_type": "code",
   "execution_count": 17,
   "metadata": {},
   "outputs": [],
   "source": [
    "# Define decay schedule\n",
    "schedule = mlrose_hiive.ExpDecay()"
   ]
  },
  {
   "cell_type": "code",
   "execution_count": 184,
   "metadata": {},
   "outputs": [
    {
     "name": "stdout",
     "output_type": "stream",
     "text": [
      "[[-42.35424201 182.        ]\n",
      " [-31.04053351 184.        ]\n",
      " [-31.04053351 186.        ]\n",
      " [-28.0339608  188.        ]\n",
      " [-28.0339608  189.        ]\n",
      " [-28.0339608  190.        ]\n",
      " [-28.0339608  191.        ]\n",
      " [-28.0339608  192.        ]\n",
      " [-28.0339608  193.        ]\n",
      " [-28.0339608  194.        ]]\n"
     ]
    }
   ],
   "source": [
    "# Solve using simulated annealing - attempt 1 (maximum 10 iterations)\n",
    "init_state = [i for i in range(0,CITIES)]\n",
    "best_state, best_fitness, fitness_curve = mlrose_hiive.simulated_annealing(problem, schedule = schedule, max_attempts = 10, \n",
    "                                                      max_iters = 10, init_state = init_state, curve=True,\n",
    "                                                      random_state = 1)\n",
    "print(fitness_curve)"
   ]
  },
  {
   "cell_type": "code",
   "execution_count": 20,
   "metadata": {},
   "outputs": [
    {
     "name": "stdout",
     "output_type": "stream",
     "text": [
      "The best state found is:  [7 1 3 5 4 0 6 2]\n"
     ]
    }
   ],
   "source": [
    "print('The best state found is: ', best_state)"
   ]
  },
  {
   "cell_type": "code",
   "execution_count": 21,
   "metadata": {},
   "outputs": [
    {
     "name": "stdout",
     "output_type": "stream",
     "text": [
      "The fitness at the best state is:  -28.03396079721184\n"
     ]
    }
   ],
   "source": [
    "print('The fitness at the best state is: ', best_fitness)"
   ]
  },
  {
   "cell_type": "code",
   "execution_count": 185,
   "metadata": {},
   "outputs": [
    {
     "name": "stdout",
     "output_type": "stream",
     "text": [
      "[[-42.35424201 197.        ]\n",
      " [-31.04053351 199.        ]\n",
      " [-31.04053351 201.        ]\n",
      " [-28.0339608  203.        ]\n",
      " [-28.0339608  204.        ]\n",
      " [-28.0339608  205.        ]\n",
      " [-28.0339608  206.        ]\n",
      " [-28.0339608  207.        ]\n",
      " [-28.0339608  208.        ]\n",
      " [-28.0339608  209.        ]\n",
      " [-23.96399004 211.        ]\n",
      " [-23.96399004 212.        ]\n",
      " [-23.96399004 213.        ]\n",
      " [-23.96399004 215.        ]\n",
      " [-23.96399004 216.        ]\n",
      " [-23.96399004 217.        ]\n",
      " [-23.96399004 218.        ]\n",
      " [-21.43024141 220.        ]\n",
      " [-21.43024141 221.        ]\n",
      " [-21.43024141 222.        ]\n",
      " [-21.43024141 224.        ]\n",
      " [-21.43024141 225.        ]\n",
      " [-21.43024141 226.        ]\n",
      " [-21.43024141 227.        ]\n",
      " [-21.43024141 228.        ]\n",
      " [-21.43024141 229.        ]\n",
      " [-21.43024141 230.        ]\n",
      " [-21.43024141 231.        ]\n",
      " [-21.43024141 233.        ]\n",
      " [-21.43024141 234.        ]\n",
      " [-21.43024141 235.        ]\n",
      " [-21.43024141 236.        ]\n",
      " [-21.43024141 237.        ]\n",
      " [-21.3564511  239.        ]\n",
      " [-21.3564511  240.        ]\n",
      " [-21.3564511  241.        ]\n",
      " [-21.3564511  242.        ]\n",
      " [-21.3564511  244.        ]\n",
      " [-21.3564511  245.        ]\n",
      " [-21.06534316 247.        ]\n",
      " [-21.06534316 248.        ]\n",
      " [-21.06534316 249.        ]\n",
      " [-21.06534316 250.        ]\n",
      " [-21.06534316 251.        ]\n",
      " [-21.06534316 252.        ]\n",
      " [-21.06534316 253.        ]\n",
      " [-21.06534316 254.        ]\n",
      " [-21.06534316 255.        ]\n",
      " [-21.06534316 256.        ]\n",
      " [-21.06534316 257.        ]]\n"
     ]
    }
   ],
   "source": [
    "# Solve using simulated annealing - attempt 2 (maximum 100 iterations)\n",
    "init_state = [i for i in range(0,CITIES)]\n",
    "best_state, best_fitness, fitness_curve = mlrose_hiive.simulated_annealing(problem, schedule = schedule, max_attempts = 10, \n",
    "                                                      max_iters = 100, init_state = init_state,  curve = True,\n",
    "                                                      random_state = 1)\n",
    "print(fitness_curve)"
   ]
  },
  {
   "cell_type": "code",
   "execution_count": 24,
   "metadata": {},
   "outputs": [
    {
     "name": "stdout",
     "output_type": "stream",
     "text": [
      "The best state found is:  [0 5 1 3 6 4 2 7]\n"
     ]
    }
   ],
   "source": [
    "print('The best state found is: ', best_state)"
   ]
  },
  {
   "cell_type": "code",
   "execution_count": 25,
   "metadata": {},
   "outputs": [
    {
     "name": "stdout",
     "output_type": "stream",
     "text": [
      "The fitness at the best state is:  -21.06534316089608\n"
     ]
    }
   ],
   "source": [
    "print('The fitness at the best state is: ', best_fitness)"
   ]
  },
  {
   "cell_type": "markdown",
   "metadata": {
    "tags": []
   },
   "source": [
    "### Genetic Algorithm"
   ]
  },
  {
   "cell_type": "code",
   "execution_count": 186,
   "metadata": {},
   "outputs": [
    {
     "name": "stdout",
     "output_type": "stream",
     "text": [
      "[[-25.96399004  22.        ]\n",
      " [-25.67835776  34.        ]\n",
      " [-25.67835776  45.        ]\n",
      " [-23.94347449  57.        ]\n",
      " [-23.94347449  68.        ]\n",
      " [-23.94347449  79.        ]\n",
      " [-23.94347449  90.        ]\n",
      " [-23.94347449 101.        ]\n",
      " [-23.94347449 112.        ]\n",
      " [-23.94347449 123.        ]]\n"
     ]
    }
   ],
   "source": [
    "# Solve using simulated annealing - attempt 1 (maximum 10 iterations)\n",
    "init_state = [i for i in range(0,CITIES)]\n",
    "best_state, best_fitness, fitness_curve = mlrose_hiive.genetic_alg(problem, pop_size=10, mutation_prob=0.1, max_attempts=10, max_iters=10, curve=True, random_state=1)\n",
    "print(fitness_curve)"
   ]
  },
  {
   "cell_type": "code",
   "execution_count": 29,
   "metadata": {},
   "outputs": [
    {
     "name": "stdout",
     "output_type": "stream",
     "text": [
      "The best state found is:  [5 4 7 2 0 6 3 1]\n"
     ]
    }
   ],
   "source": [
    "print('The best state found is: ', best_state)"
   ]
  },
  {
   "cell_type": "code",
   "execution_count": 30,
   "metadata": {},
   "outputs": [
    {
     "name": "stdout",
     "output_type": "stream",
     "text": [
      "The fitness at the best state is:  -23.943474490948805\n"
     ]
    }
   ],
   "source": [
    "print('The fitness at the best state is: ', best_fitness)"
   ]
  },
  {
   "cell_type": "code",
   "execution_count": 187,
   "metadata": {},
   "outputs": [
    {
     "name": "stdout",
     "output_type": "stream",
     "text": [
      "[[-25.96399004  22.        ]\n",
      " [-25.67835776  34.        ]\n",
      " [-25.67835776  45.        ]\n",
      " [-23.94347449  57.        ]\n",
      " [-23.94347449  68.        ]\n",
      " [-23.94347449  79.        ]\n",
      " [-23.94347449  90.        ]\n",
      " [-23.94347449 101.        ]\n",
      " [-23.94347449 112.        ]\n",
      " [-23.94347449 123.        ]\n",
      " [-22.6923006  135.        ]\n",
      " [-22.6923006  146.        ]\n",
      " [-22.6923006  157.        ]\n",
      " [-22.6923006  168.        ]\n",
      " [-22.6923006  179.        ]\n",
      " [-22.6923006  190.        ]\n",
      " [-22.6923006  201.        ]\n",
      " [-22.6923006  212.        ]\n",
      " [-22.6923006  223.        ]\n",
      " [-22.6923006  234.        ]]\n"
     ]
    }
   ],
   "source": [
    "# Solve using simulated annealing - attempt 2 (maximum 20 iterations)\n",
    "init_state = [i for i in range(0,CITIES)]\n",
    "best_state, best_fitness, fitness_curve = mlrose_hiive.genetic_alg(problem, pop_size=10, mutation_prob=0.1, max_attempts=10, max_iters=20, curve=True, random_state=1)\n",
    "print(fitness_curve)"
   ]
  },
  {
   "cell_type": "code",
   "execution_count": 33,
   "metadata": {},
   "outputs": [
    {
     "name": "stdout",
     "output_type": "stream",
     "text": [
      "The best state found is:  [5 7 4 2 6 0 1 3]\n"
     ]
    }
   ],
   "source": [
    "print('The best state found is: ', best_state)"
   ]
  },
  {
   "cell_type": "code",
   "execution_count": 34,
   "metadata": {},
   "outputs": [
    {
     "name": "stdout",
     "output_type": "stream",
     "text": [
      "The fitness at the best state is:  -22.692300596499766\n"
     ]
    }
   ],
   "source": [
    "print('The fitness at the best state is: ', best_fitness)"
   ]
  },
  {
   "cell_type": "markdown",
   "metadata": {},
   "source": [
    "### MIMIC"
   ]
  },
  {
   "cell_type": "code",
   "execution_count": 188,
   "metadata": {},
   "outputs": [
    {
     "name": "stdout",
     "output_type": "stream",
     "text": [
      "[[-23.4209462  42.       ]\n",
      " [-23.4209462  63.       ]\n",
      " [-23.4209462  84.       ]\n",
      " [-23.4209462 105.       ]\n",
      " [-23.4209462 126.       ]\n",
      " [-23.4209462 147.       ]\n",
      " [-23.4209462 168.       ]\n",
      " [-23.4209462 189.       ]\n",
      " [-23.4209462 210.       ]\n",
      " [-23.4209462 231.       ]]\n"
     ]
    }
   ],
   "source": [
    "# Solve using simulated annealing - attempt 1 (population size 20, maximum 10 attempts, maximum 10 iterations)\n",
    "init_state = [i for i in range(0,CITIES)]\n",
    "best_state, best_fitness, fitness_curve = mlrose_hiive.mimic(problem, pop_size=20, keep_pct=0.2, max_attempts=10, max_iters=10, curve=True, random_state=1)\n",
    "print(fitness_curve)"
   ]
  },
  {
   "cell_type": "code",
   "execution_count": 38,
   "metadata": {},
   "outputs": [
    {
     "name": "stdout",
     "output_type": "stream",
     "text": [
      "The best state found is:  [7 3 1 5 0 6 4 2]\n"
     ]
    }
   ],
   "source": [
    "print('The best state found is: ', best_state)"
   ]
  },
  {
   "cell_type": "code",
   "execution_count": 39,
   "metadata": {},
   "outputs": [
    {
     "name": "stdout",
     "output_type": "stream",
     "text": [
      "The fitness at the best state is:  -23.420946199897497\n"
     ]
    }
   ],
   "source": [
    "print('The fitness at the best state is: ', best_fitness)"
   ]
  },
  {
   "cell_type": "code",
   "execution_count": 189,
   "metadata": {},
   "outputs": [
    {
     "name": "stdout",
     "output_type": "stream",
     "text": [
      "[[ -23.4209462   42.       ]\n",
      " [ -23.4209462   63.       ]\n",
      " [ -23.4209462   84.       ]\n",
      " [ -23.4209462  105.       ]\n",
      " [ -23.4209462  126.       ]\n",
      " [ -23.4209462  147.       ]\n",
      " [ -23.4209462  168.       ]\n",
      " [ -23.4209462  189.       ]\n",
      " [ -23.4209462  210.       ]\n",
      " [ -23.4209462  231.       ]\n",
      " [ -23.4209462  252.       ]\n",
      " [ -23.4209462  273.       ]\n",
      " [ -23.4209462  294.       ]\n",
      " [ -23.4209462  315.       ]\n",
      " [ -23.4209462  336.       ]\n",
      " [ -23.4209462  357.       ]\n",
      " [ -23.4209462  378.       ]\n",
      " [ -23.4209462  399.       ]\n",
      " [ -23.4209462  420.       ]\n",
      " [ -23.4209462  441.       ]\n",
      " [ -23.4209462  462.       ]\n",
      " [ -23.4209462  483.       ]\n",
      " [ -23.4209462  504.       ]\n",
      " [ -23.4209462  525.       ]\n",
      " [ -23.4209462  546.       ]\n",
      " [ -23.4209462  567.       ]\n",
      " [ -23.4209462  588.       ]\n",
      " [ -23.4209462  609.       ]\n",
      " [ -23.4209462  630.       ]\n",
      " [ -23.4209462  651.       ]\n",
      " [ -23.4209462  672.       ]\n",
      " [ -23.4209462  693.       ]\n",
      " [ -23.4209462  714.       ]\n",
      " [ -23.4209462  735.       ]\n",
      " [ -23.4209462  756.       ]\n",
      " [ -23.4209462  777.       ]\n",
      " [ -23.4209462  798.       ]\n",
      " [ -23.4209462  819.       ]\n",
      " [ -23.4209462  840.       ]\n",
      " [ -23.4209462  861.       ]\n",
      " [ -23.4209462  882.       ]\n",
      " [ -23.4209462  903.       ]\n",
      " [ -23.4209462  924.       ]\n",
      " [ -23.4209462  945.       ]\n",
      " [ -23.4209462  966.       ]\n",
      " [ -23.4209462  987.       ]\n",
      " [ -23.4209462 1008.       ]\n",
      " [ -23.4209462 1029.       ]\n",
      " [ -23.4209462 1050.       ]\n",
      " [ -23.4209462 1071.       ]\n",
      " [ -23.4209462 1092.       ]\n",
      " [ -23.4209462 1113.       ]\n",
      " [ -23.4209462 1134.       ]\n",
      " [ -23.4209462 1155.       ]\n",
      " [ -23.4209462 1176.       ]\n",
      " [ -23.4209462 1197.       ]\n",
      " [ -23.4209462 1218.       ]\n",
      " [ -23.4209462 1239.       ]\n",
      " [ -23.4209462 1260.       ]\n",
      " [ -23.4209462 1281.       ]\n",
      " [ -23.4209462 1302.       ]\n",
      " [ -23.4209462 1323.       ]\n",
      " [ -23.4209462 1344.       ]\n",
      " [ -23.4209462 1365.       ]\n",
      " [ -23.4209462 1386.       ]\n",
      " [ -23.4209462 1407.       ]\n",
      " [ -23.4209462 1428.       ]\n",
      " [ -23.4209462 1449.       ]\n",
      " [ -23.4209462 1470.       ]\n",
      " [ -23.4209462 1491.       ]\n",
      " [ -23.4209462 1512.       ]\n",
      " [ -23.4209462 1533.       ]\n",
      " [ -23.4209462 1554.       ]\n",
      " [ -23.4209462 1575.       ]\n",
      " [ -23.4209462 1596.       ]\n",
      " [ -23.4209462 1617.       ]\n",
      " [ -23.4209462 1638.       ]\n",
      " [ -23.4209462 1659.       ]\n",
      " [ -23.4209462 1680.       ]\n",
      " [ -23.4209462 1701.       ]\n",
      " [ -23.4209462 1722.       ]\n",
      " [ -23.4209462 1743.       ]\n",
      " [ -23.4209462 1764.       ]\n",
      " [ -23.4209462 1785.       ]\n",
      " [ -23.4209462 1806.       ]\n",
      " [ -23.4209462 1827.       ]\n",
      " [ -23.4209462 1848.       ]\n",
      " [ -23.4209462 1869.       ]\n",
      " [ -23.4209462 1890.       ]\n",
      " [ -23.4209462 1911.       ]\n",
      " [ -23.4209462 1932.       ]\n",
      " [ -23.4209462 1953.       ]\n",
      " [ -23.4209462 1974.       ]\n",
      " [ -23.4209462 1995.       ]\n",
      " [ -23.4209462 2016.       ]\n",
      " [ -23.4209462 2037.       ]\n",
      " [ -23.4209462 2058.       ]\n",
      " [ -23.4209462 2079.       ]\n",
      " [ -23.4209462 2100.       ]\n",
      " [ -23.4209462 2121.       ]]\n"
     ]
    }
   ],
   "source": [
    "# Solve using simulated annealing - attempt 2 (population size 20, maximum 100 attempts, maximum 100 iterations)\n",
    "init_state = [i for i in range(0,CITIES)]\n",
    "best_state, best_fitness, fitness_curve = mlrose_hiive.mimic(problem, pop_size=20, keep_pct=0.2, max_attempts=100, max_iters=100, curve=True, random_state=1)\n",
    "print(fitness_curve)"
   ]
  },
  {
   "cell_type": "code",
   "execution_count": 41,
   "metadata": {},
   "outputs": [
    {
     "name": "stdout",
     "output_type": "stream",
     "text": [
      "The best state found is:  [7 3 1 5 0 6 4 2]\n"
     ]
    }
   ],
   "source": [
    "print('The best state found is: ', best_state)"
   ]
  },
  {
   "cell_type": "code",
   "execution_count": 42,
   "metadata": {},
   "outputs": [
    {
     "name": "stdout",
     "output_type": "stream",
     "text": [
      "The fitness at the best state is:  -23.420946199897497\n"
     ]
    }
   ],
   "source": [
    "print('The fitness at the best state is: ', best_fitness)"
   ]
  },
  {
   "cell_type": "code",
   "execution_count": 190,
   "metadata": {},
   "outputs": [
    {
     "name": "stdout",
     "output_type": "stream",
     "text": [
      "[[-21.3564511  82.       ]\n",
      " [-21.3564511 123.       ]\n",
      " [-21.3564511 164.       ]\n",
      " [-21.3564511 205.       ]\n",
      " [-21.3564511 246.       ]\n",
      " [-21.3564511 287.       ]\n",
      " [-21.3564511 328.       ]\n",
      " [-21.3564511 369.       ]\n",
      " [-21.3564511 410.       ]\n",
      " [-21.3564511 451.       ]]\n"
     ]
    }
   ],
   "source": [
    "# Solve using simulated annealing - attempt 3 (population size 40, maximum 100 attempts, maximum 100 iterations)\n",
    "init_state = [i for i in range(0,CITIES)]\n",
    "best_state, best_fitness, fitness_curve = mlrose_hiive.mimic(problem, pop_size=40, keep_pct=0.2, max_attempts=10, max_iters=10, curve=True, random_state=1)\n",
    "print(fitness_curve)"
   ]
  },
  {
   "cell_type": "code",
   "execution_count": 44,
   "metadata": {},
   "outputs": [
    {
     "name": "stdout",
     "output_type": "stream",
     "text": [
      "The best state found is:  [7 6 3 1 5 0 2 4]\n"
     ]
    }
   ],
   "source": [
    "print('The best state found is: ', best_state)"
   ]
  },
  {
   "cell_type": "code",
   "execution_count": 45,
   "metadata": {},
   "outputs": [
    {
     "name": "stdout",
     "output_type": "stream",
     "text": [
      "The fitness at the best state is:  -21.356451097651515\n"
     ]
    }
   ],
   "source": [
    "print('The fitness at the best state is: ', best_fitness)"
   ]
  },
  {
   "cell_type": "code",
   "execution_count": 191,
   "metadata": {},
   "outputs": [
    {
     "name": "stdout",
     "output_type": "stream",
     "text": [
      "[[ -21.11504737  202.        ]\n",
      " [ -20.92636961  304.        ]\n",
      " [ -20.92636961  405.        ]\n",
      " [ -20.92636961  506.        ]\n",
      " [ -20.92636961  607.        ]\n",
      " [ -20.92636961  708.        ]\n",
      " [ -20.92636961  809.        ]\n",
      " [ -20.92636961  910.        ]\n",
      " [ -20.92636961 1011.        ]\n",
      " [ -20.92636961 1112.        ]]\n"
     ]
    }
   ],
   "source": [
    "# Solve using simulated annealing - attempt 4 (population size 100, maximum 100 attempts, maximum 100 iterations)\n",
    "init_state = [i for i in range(0,CITIES)]\n",
    "best_state, best_fitness, fitness_curve = mlrose_hiive.mimic(problem, pop_size=100, keep_pct=0.2, max_attempts=10, max_iters=10, curve=True, random_state=1)\n",
    "print(fitness_curve)"
   ]
  },
  {
   "cell_type": "code",
   "execution_count": 47,
   "metadata": {},
   "outputs": [
    {
     "name": "stdout",
     "output_type": "stream",
     "text": [
      "The best state found is:  [1 3 6 0 7 4 2 5]\n"
     ]
    }
   ],
   "source": [
    "print('The best state found is: ', best_state)"
   ]
  },
  {
   "cell_type": "code",
   "execution_count": 48,
   "metadata": {},
   "outputs": [
    {
     "name": "stdout",
     "output_type": "stream",
     "text": [
      "The fitness at the best state is:  -20.926369610573495\n"
     ]
    }
   ],
   "source": [
    "print('The fitness at the best state is: ', best_fitness)"
   ]
  },
  {
   "cell_type": "code",
   "execution_count": 192,
   "metadata": {},
   "outputs": [
    {
     "name": "stdout",
     "output_type": "stream",
     "text": [
      "[[ -21.06534316  402.        ]\n",
      " [ -20.92636961  604.        ]\n",
      " [ -20.92636961  805.        ]\n",
      " [ -20.92636961 1006.        ]\n",
      " [ -20.92636961 1207.        ]\n",
      " [ -20.92636961 1408.        ]\n",
      " [ -20.92636961 1609.        ]\n",
      " [ -20.92636961 1810.        ]\n",
      " [ -20.92636961 2011.        ]\n",
      " [ -20.92636961 2212.        ]]\n"
     ]
    }
   ],
   "source": [
    "# Solve using simulated annealing - attempt 5 (population size 200, maximum 100 attempts, maximum 100 iterations)\n",
    "init_state = [i for i in range(0,CITIES)]\n",
    "best_state, best_fitness, fitness_curve = mlrose_hiive.mimic(problem, pop_size=200, keep_pct=0.2, max_attempts=10, max_iters=10, curve=True, random_state=1)\n",
    "print(fitness_curve)"
   ]
  },
  {
   "cell_type": "code",
   "execution_count": 50,
   "metadata": {},
   "outputs": [
    {
     "name": "stdout",
     "output_type": "stream",
     "text": [
      "The best state found is:  [3 6 0 7 4 2 5 1]\n"
     ]
    }
   ],
   "source": [
    "print('The best state found is: ', best_state)"
   ]
  },
  {
   "cell_type": "code",
   "execution_count": 51,
   "metadata": {},
   "outputs": [
    {
     "name": "stdout",
     "output_type": "stream",
     "text": [
      "The fitness at the best state is:  -20.926369610573495\n"
     ]
    }
   ],
   "source": [
    "print('The fitness at the best state is: ', best_fitness)"
   ]
  },
  {
   "cell_type": "markdown",
   "metadata": {},
   "source": [
    "## 4-Peaks Problem"
   ]
  },
  {
   "cell_type": "code",
   "execution_count": 205,
   "metadata": {},
   "outputs": [],
   "source": [
    "# Initialize fitness function object using pre-defined class\n",
    "fitness = mlrose_hiive.SixPeaks()"
   ]
  },
  {
   "cell_type": "code",
   "execution_count": 206,
   "metadata": {},
   "outputs": [],
   "source": [
    "# Define optimization problem object\n",
    "DIMENSIONS = 16\n",
    "problem = mlrose_hiive.DiscreteOpt(length = DIMENSIONS, fitness_fn = fitness, maximize=True, max_val=2)"
   ]
  },
  {
   "cell_type": "markdown",
   "metadata": {},
   "source": [
    "### Randomized Hill Climbing"
   ]
  },
  {
   "cell_type": "code",
   "execution_count": 207,
   "metadata": {},
   "outputs": [
    {
     "name": "stdout",
     "output_type": "stream",
     "text": [
      "[[16.  1.]\n",
      " [16.  2.]\n",
      " [16.  3.]\n",
      " [16.  4.]\n",
      " [16.  5.]\n",
      " [16.  6.]\n",
      " [16.  7.]\n",
      " [16.  8.]\n",
      " [16.  9.]\n",
      " [16. 10.]]\n"
     ]
    }
   ],
   "source": [
    "# Solve using randomized hill climbing - attempt 1 (1 random attempt)\n",
    "init_state = np.zeros(DIMENSIONS)\n",
    "best_state, best_fitness, fitness_curve = mlrose_hiive.random_hill_climb(problem, max_attempts=10, max_iters=10, restarts=1, init_state=init_state, curve=True, random_state=1)\n",
    "print(fitness_curve)"
   ]
  },
  {
   "cell_type": "code",
   "execution_count": 208,
   "metadata": {},
   "outputs": [
    {
     "name": "stdout",
     "output_type": "stream",
     "text": [
      "The best state found is:  [0. 0. 0. 0. 0. 0. 0. 0. 0. 0. 0. 0. 0. 0. 0. 0.]\n"
     ]
    }
   ],
   "source": [
    "print('The best state found is: ', best_state)"
   ]
  },
  {
   "cell_type": "code",
   "execution_count": 209,
   "metadata": {},
   "outputs": [
    {
     "name": "stdout",
     "output_type": "stream",
     "text": [
      "The fitness at the best state is:  16.0\n"
     ]
    }
   ],
   "source": [
    "print('The fitness at the best state is: ', best_fitness)"
   ]
  },
  {
   "cell_type": "code",
   "execution_count": 210,
   "metadata": {},
   "outputs": [
    {
     "name": "stdout",
     "output_type": "stream",
     "text": [
      "[[16. 21.]\n",
      " [16. 22.]\n",
      " [16. 23.]\n",
      " [16. 24.]\n",
      " [16. 25.]\n",
      " [16. 26.]\n",
      " [16. 27.]\n",
      " [16. 28.]\n",
      " [16. 29.]\n",
      " [16. 30.]]\n"
     ]
    }
   ],
   "source": [
    "# Solve using randomized hill climbing - attempt 2 (10 random attempts)\n",
    "init_state = np.zeros(DIMENSIONS)\n",
    "best_state, best_fitness, fitness_curves = mlrose_hiive.random_hill_climb(problem, max_attempts=10, max_iters=10, restarts=10, init_state=init_state, curve=True, random_state=1)\n",
    "print(fitness_curves)"
   ]
  },
  {
   "cell_type": "code",
   "execution_count": 211,
   "metadata": {},
   "outputs": [
    {
     "name": "stdout",
     "output_type": "stream",
     "text": [
      "The best state found is:  [0. 0. 0. 0. 0. 0. 0. 0. 0. 0. 0. 0. 0. 0. 0. 0.]\n"
     ]
    }
   ],
   "source": [
    "print('The best state found is: ', best_state)"
   ]
  },
  {
   "cell_type": "code",
   "execution_count": 212,
   "metadata": {},
   "outputs": [
    {
     "name": "stdout",
     "output_type": "stream",
     "text": [
      "The fitness at the best state is:  16.0\n"
     ]
    }
   ],
   "source": [
    "print('The fitness at the best state is: ', best_fitness)"
   ]
  },
  {
   "cell_type": "markdown",
   "metadata": {},
   "source": [
    "### Simulated Annealing"
   ]
  },
  {
   "cell_type": "code",
   "execution_count": 213,
   "metadata": {},
   "outputs": [],
   "source": [
    "# Define decay schedule\n",
    "schedule = mlrose_hiive.ExpDecay()"
   ]
  },
  {
   "cell_type": "code",
   "execution_count": 214,
   "metadata": {},
   "outputs": [
    {
     "name": "stdout",
     "output_type": "stream",
     "text": [
      "[[ 16. 132.]\n",
      " [  7. 134.]\n",
      " [  7. 135.]\n",
      " [  7. 137.]\n",
      " [  7. 138.]\n",
      " [  7. 139.]\n",
      " [  7. 141.]\n",
      " [  7. 143.]\n",
      " [  7. 144.]\n",
      " [  7. 145.]]\n"
     ]
    }
   ],
   "source": [
    "# Solve using simulated annealing - attempt 1 (maximum 10 iterations)\n",
    "init_state = np.zeros(DIMENSIONS)\n",
    "best_state, best_fitness, fitness_curve = mlrose_hiive.simulated_annealing(problem, schedule = schedule, max_attempts = 10, \n",
    "                                                      max_iters = 10, init_state = init_state, curve = True,\n",
    "                                                      random_state = 1)\n",
    "print(fitness_curve)"
   ]
  },
  {
   "cell_type": "code",
   "execution_count": 215,
   "metadata": {},
   "outputs": [
    {
     "name": "stdout",
     "output_type": "stream",
     "text": [
      "The best state found is:  [1. 0. 1. 0. 0. 1. 0. 0. 1. 0. 0. 0. 0. 0. 0. 0.]\n"
     ]
    }
   ],
   "source": [
    "print('The best state found is: ', best_state)"
   ]
  },
  {
   "cell_type": "code",
   "execution_count": 216,
   "metadata": {},
   "outputs": [
    {
     "name": "stdout",
     "output_type": "stream",
     "text": [
      "The fitness at the best state is:  7.0\n"
     ]
    }
   ],
   "source": [
    "print('The fitness at the best state is: ', best_fitness)"
   ]
  },
  {
   "cell_type": "code",
   "execution_count": 217,
   "metadata": {},
   "outputs": [
    {
     "name": "stdout",
     "output_type": "stream",
     "text": [
      "[[ 16. 147.]\n",
      " [  7. 149.]\n",
      " [  7. 150.]\n",
      " [  7. 152.]\n",
      " [  7. 153.]\n",
      " [  7. 154.]\n",
      " [  7. 156.]\n",
      " [  7. 158.]\n",
      " [  7. 159.]\n",
      " [  7. 160.]\n",
      " [  7. 162.]\n",
      " [  7. 164.]\n",
      " [  7. 166.]\n",
      " [  7. 168.]\n",
      " [  7. 169.]\n",
      " [  7. 170.]\n",
      " [  7. 172.]\n",
      " [  7. 174.]\n",
      " [  7. 175.]\n",
      " [  7. 176.]\n",
      " [  7. 177.]\n",
      " [  7. 179.]\n",
      " [  6. 181.]\n",
      " [  6. 183.]\n",
      " [  6. 184.]\n",
      " [  6. 186.]\n",
      " [ 10. 188.]\n",
      " [ 10. 190.]\n",
      " [ 10. 192.]\n",
      " [ 10. 194.]\n",
      " [ 10. 195.]\n",
      " [ 10. 196.]\n",
      " [ 10. 197.]\n",
      " [ 10. 198.]\n",
      " [ 11. 200.]\n",
      " [ 11. 201.]\n",
      " [ 11. 202.]\n",
      " [ 11. 203.]\n",
      " [ 11. 204.]\n",
      " [ 11. 205.]\n",
      " [ 11. 206.]\n",
      " [ 11. 208.]\n",
      " [ 11. 209.]\n",
      " [ 11. 210.]\n",
      " [ 11. 211.]\n",
      " [ 11. 212.]\n",
      " [ 11. 213.]\n",
      " [ 11. 214.]\n",
      " [ 11. 215.]\n",
      " [ 11. 216.]\n",
      " [ 15. 218.]\n",
      " [ 15. 219.]\n",
      " [ 15. 220.]\n",
      " [ 15. 221.]\n",
      " [ 15. 222.]\n",
      " [ 15. 223.]\n",
      " [ 15. 224.]\n",
      " [ 15. 225.]\n",
      " [ 15. 226.]\n",
      " [ 15. 227.]\n",
      " [ 15. 228.]]\n"
     ]
    }
   ],
   "source": [
    "# Solve using simulated annealing - attempt 2 (maximum 100 iterations)\n",
    "init_state = np.zeros(DIMENSIONS)\n",
    "best_state, best_fitness, fitness_curve = mlrose_hiive.simulated_annealing(problem, schedule = schedule, max_attempts = 10, \n",
    "                                                      max_iters = 100, init_state = init_state,  curve = True,\n",
    "                                                      random_state = 1)\n",
    "print(fitness_curve)"
   ]
  },
  {
   "cell_type": "code",
   "execution_count": 218,
   "metadata": {},
   "outputs": [
    {
     "name": "stdout",
     "output_type": "stream",
     "text": [
      "The best state found is:  [1. 0. 0. 0. 0. 0. 0. 0. 0. 0. 0. 0. 0. 0. 0. 0.]\n"
     ]
    }
   ],
   "source": [
    "print('The best state found is: ', best_state)"
   ]
  },
  {
   "cell_type": "code",
   "execution_count": 219,
   "metadata": {},
   "outputs": [
    {
     "name": "stdout",
     "output_type": "stream",
     "text": [
      "The fitness at the best state is:  15.0\n"
     ]
    }
   ],
   "source": [
    "print('The fitness at the best state is: ', best_fitness)"
   ]
  },
  {
   "cell_type": "markdown",
   "metadata": {},
   "source": [
    "### Genetic Algorithm"
   ]
  },
  {
   "cell_type": "code",
   "execution_count": 220,
   "metadata": {},
   "outputs": [
    {
     "name": "stdout",
     "output_type": "stream",
     "text": [
      "[[  6.  22.]\n",
      " [ 19.  34.]\n",
      " [ 21.  46.]\n",
      " [ 21.  57.]\n",
      " [ 21.  68.]\n",
      " [ 21.  79.]\n",
      " [ 21.  90.]\n",
      " [ 21. 101.]\n",
      " [ 21. 112.]\n",
      " [ 21. 123.]]\n"
     ]
    }
   ],
   "source": [
    "# Solve using simulated annealing - attempt 1 (maximum 10 iterations)\n",
    "init_state = np.zeros(DIMENSIONS)\n",
    "best_state, best_fitness, fitness_curve = mlrose_hiive.genetic_alg(problem, pop_size=10, mutation_prob=0.1, max_attempts=10, max_iters=10, curve=True, random_state=1)\n",
    "print(fitness_curve)"
   ]
  },
  {
   "cell_type": "code",
   "execution_count": 221,
   "metadata": {},
   "outputs": [
    {
     "name": "stdout",
     "output_type": "stream",
     "text": [
      "The best state found is:  [1 1 1 1 1 0 0 0 1 0 1 0 1 0 0 0]\n"
     ]
    }
   ],
   "source": [
    "print('The best state found is: ', best_state)"
   ]
  },
  {
   "cell_type": "code",
   "execution_count": 222,
   "metadata": {},
   "outputs": [
    {
     "name": "stdout",
     "output_type": "stream",
     "text": [
      "The fitness at the best state is:  21.0\n"
     ]
    }
   ],
   "source": [
    "print('The fitness at the best state is: ', best_fitness)"
   ]
  },
  {
   "cell_type": "code",
   "execution_count": 223,
   "metadata": {},
   "outputs": [
    {
     "name": "stdout",
     "output_type": "stream",
     "text": [
      "[[  6.  22.]\n",
      " [ 19.  34.]\n",
      " [ 21.  46.]\n",
      " [ 21.  57.]\n",
      " [ 21.  68.]\n",
      " [ 21.  79.]\n",
      " [ 21.  90.]\n",
      " [ 21. 101.]\n",
      " [ 21. 112.]\n",
      " [ 21. 123.]\n",
      " [ 21. 134.]\n",
      " [ 21. 145.]\n",
      " [ 21. 156.]]\n"
     ]
    }
   ],
   "source": [
    "# Solve using simulated annealing - attempt 2 (maximum 20 iterations)\n",
    "init_state = np.zeros(DIMENSIONS)\n",
    "best_state, best_fitness, fitness_curve = mlrose_hiive.genetic_alg(problem, pop_size=10, mutation_prob=0.1, max_attempts=10, max_iters=20, curve=True, random_state=1)\n",
    "print(fitness_curve)"
   ]
  },
  {
   "cell_type": "code",
   "execution_count": 141,
   "metadata": {},
   "outputs": [
    {
     "name": "stdout",
     "output_type": "stream",
     "text": [
      "The best state found is:  [1 1 1 1 1 0 0 0 1 0 1 0 1 0 0 0]\n"
     ]
    }
   ],
   "source": [
    "print('The best state found is: ', best_state)"
   ]
  },
  {
   "cell_type": "code",
   "execution_count": 142,
   "metadata": {},
   "outputs": [
    {
     "name": "stdout",
     "output_type": "stream",
     "text": [
      "The fitness at the best state is:  21.0\n"
     ]
    }
   ],
   "source": [
    "print('The fitness at the best state is: ', best_fitness)"
   ]
  },
  {
   "cell_type": "markdown",
   "metadata": {},
   "source": [
    "### MIMIC"
   ]
  },
  {
   "cell_type": "code",
   "execution_count": 224,
   "metadata": {},
   "outputs": [
    {
     "name": "stdout",
     "output_type": "stream",
     "text": [
      "[[ 22.  42.]\n",
      " [ 22.  63.]\n",
      " [ 22.  84.]\n",
      " [ 22. 105.]\n",
      " [ 22. 126.]\n",
      " [ 22. 147.]\n",
      " [ 22. 168.]\n",
      " [ 22. 189.]\n",
      " [ 22. 210.]\n",
      " [ 22. 231.]]\n"
     ]
    }
   ],
   "source": [
    "# Solve using simulated annealing - attempt 1 (population size 20, maximum 10 attempts, maximum 10 iterations)\n",
    "init_state = np.zeros(DIMENSIONS)\n",
    "best_state, best_fitness, fitness_curve = mlrose_hiive.mimic(problem, pop_size=20, keep_pct=0.2, max_attempts=10, max_iters=10, curve=True, random_state=1)\n",
    "print(fitness_curve)"
   ]
  },
  {
   "cell_type": "code",
   "execution_count": 144,
   "metadata": {},
   "outputs": [
    {
     "name": "stdout",
     "output_type": "stream",
     "text": [
      "The best state found is:  [1 1 1 1 0 0 1 1 1 1 0 0 0 0 0 0]\n"
     ]
    }
   ],
   "source": [
    "print('The best state found is: ', best_state)"
   ]
  },
  {
   "cell_type": "code",
   "execution_count": 145,
   "metadata": {},
   "outputs": [
    {
     "name": "stdout",
     "output_type": "stream",
     "text": [
      "The fitness at the best state is:  22.0\n"
     ]
    }
   ],
   "source": [
    "print('The fitness at the best state is: ', best_fitness)"
   ]
  },
  {
   "cell_type": "code",
   "execution_count": 226,
   "metadata": {},
   "outputs": [
    {
     "name": "stdout",
     "output_type": "stream",
     "text": [
      "[[  22.   42.]\n",
      " [  22.   63.]\n",
      " [  22.   84.]\n",
      " [  22.  105.]\n",
      " [  22.  126.]\n",
      " [  22.  147.]\n",
      " [  22.  168.]\n",
      " [  22.  189.]\n",
      " [  22.  210.]\n",
      " [  22.  231.]\n",
      " [  22.  252.]\n",
      " [  22.  273.]\n",
      " [  22.  294.]\n",
      " [  22.  315.]\n",
      " [  22.  336.]\n",
      " [  22.  357.]\n",
      " [  22.  378.]\n",
      " [  22.  399.]\n",
      " [  22.  420.]\n",
      " [  22.  441.]\n",
      " [  22.  462.]\n",
      " [  22.  483.]\n",
      " [  22.  504.]\n",
      " [  22.  525.]\n",
      " [  22.  546.]\n",
      " [  22.  567.]\n",
      " [  22.  588.]\n",
      " [  22.  609.]\n",
      " [  22.  630.]\n",
      " [  22.  651.]\n",
      " [  22.  672.]\n",
      " [  22.  693.]\n",
      " [  22.  714.]\n",
      " [  22.  735.]\n",
      " [  22.  756.]\n",
      " [  22.  777.]\n",
      " [  22.  798.]\n",
      " [  22.  819.]\n",
      " [  22.  840.]\n",
      " [  22.  861.]\n",
      " [  22.  882.]\n",
      " [  22.  903.]\n",
      " [  22.  924.]\n",
      " [  22.  945.]\n",
      " [  22.  966.]\n",
      " [  22.  987.]\n",
      " [  22. 1008.]\n",
      " [  22. 1029.]\n",
      " [  22. 1050.]\n",
      " [  22. 1071.]\n",
      " [  22. 1092.]\n",
      " [  22. 1113.]\n",
      " [  22. 1134.]\n",
      " [  22. 1155.]\n",
      " [  22. 1176.]\n",
      " [  22. 1197.]\n",
      " [  22. 1218.]\n",
      " [  22. 1239.]\n",
      " [  22. 1260.]\n",
      " [  22. 1281.]\n",
      " [  22. 1302.]\n",
      " [  22. 1323.]\n",
      " [  22. 1344.]\n",
      " [  22. 1365.]\n",
      " [  22. 1386.]\n",
      " [  22. 1407.]\n",
      " [  22. 1428.]\n",
      " [  22. 1449.]\n",
      " [  22. 1470.]\n",
      " [  22. 1491.]\n",
      " [  22. 1512.]\n",
      " [  22. 1533.]\n",
      " [  22. 1554.]\n",
      " [  22. 1575.]\n",
      " [  22. 1596.]\n",
      " [  22. 1617.]\n",
      " [  22. 1638.]\n",
      " [  22. 1659.]\n",
      " [  22. 1680.]\n",
      " [  22. 1701.]\n",
      " [  22. 1722.]\n",
      " [  22. 1743.]\n",
      " [  22. 1764.]\n",
      " [  22. 1785.]\n",
      " [  22. 1806.]\n",
      " [  22. 1827.]\n",
      " [  22. 1848.]\n",
      " [  22. 1869.]\n",
      " [  22. 1890.]\n",
      " [  22. 1911.]\n",
      " [  22. 1932.]\n",
      " [  22. 1953.]\n",
      " [  22. 1974.]\n",
      " [  22. 1995.]\n",
      " [  22. 2016.]\n",
      " [  22. 2037.]\n",
      " [  22. 2058.]\n",
      " [  22. 2079.]\n",
      " [  22. 2100.]\n",
      " [  22. 2121.]]\n"
     ]
    }
   ],
   "source": [
    "# Solve using simulated annealing - attempt 2 (population size 20, maximum 100 attempts, maximum 100 iterations)\n",
    "init_state = np.zeros(DIMENSIONS)\n",
    "best_state, best_fitness, fitness_curve = mlrose_hiive.mimic(problem, pop_size=20, keep_pct=0.2, max_attempts=100, max_iters=100, curve=True, random_state=1)\n",
    "print(fitness_curve)"
   ]
  },
  {
   "cell_type": "code",
   "execution_count": 147,
   "metadata": {},
   "outputs": [
    {
     "name": "stdout",
     "output_type": "stream",
     "text": [
      "The best state found is:  [1 1 1 1 0 0 1 1 1 1 0 0 0 0 0 0]\n"
     ]
    }
   ],
   "source": [
    "print('The best state found is: ', best_state)"
   ]
  },
  {
   "cell_type": "code",
   "execution_count": 148,
   "metadata": {},
   "outputs": [
    {
     "name": "stdout",
     "output_type": "stream",
     "text": [
      "The fitness at the best state is:  22.0\n"
     ]
    }
   ],
   "source": [
    "print('The fitness at the best state is: ', best_fitness)"
   ]
  },
  {
   "cell_type": "code",
   "execution_count": 227,
   "metadata": {},
   "outputs": [
    {
     "name": "stdout",
     "output_type": "stream",
     "text": [
      "[[ 24.  82.]\n",
      " [ 24. 123.]\n",
      " [ 24. 164.]\n",
      " [ 24. 205.]\n",
      " [ 24. 246.]\n",
      " [ 24. 287.]\n",
      " [ 24. 328.]\n",
      " [ 24. 369.]\n",
      " [ 24. 410.]\n",
      " [ 24. 451.]]\n"
     ]
    }
   ],
   "source": [
    "# Solve using simulated annealing - attempt 3 (population size 40, maximum 100 attempts, maximum 100 iterations)\n",
    "init_state = np.zeros(DIMENSIONS)\n",
    "best_state, best_fitness, fitness_curve = mlrose_hiive.mimic(problem, pop_size=40, keep_pct=0.2, max_attempts=10, max_iters=10, curve=True, random_state=1)\n",
    "print(fitness_curve)"
   ]
  },
  {
   "cell_type": "code",
   "execution_count": 150,
   "metadata": {},
   "outputs": [
    {
     "name": "stdout",
     "output_type": "stream",
     "text": [
      "The best state found is:  [1 1 1 0 0 0 1 1 0 0 0 0 0 0 0 0]\n"
     ]
    }
   ],
   "source": [
    "print('The best state found is: ', best_state)"
   ]
  },
  {
   "cell_type": "code",
   "execution_count": 151,
   "metadata": {},
   "outputs": [
    {
     "name": "stdout",
     "output_type": "stream",
     "text": [
      "The fitness at the best state is:  24.0\n"
     ]
    }
   ],
   "source": [
    "print('The fitness at the best state is: ', best_fitness)"
   ]
  },
  {
   "cell_type": "code",
   "execution_count": 228,
   "metadata": {},
   "outputs": [
    {
     "name": "stdout",
     "output_type": "stream",
     "text": [
      "[[  26.  202.]\n",
      " [  29.  304.]\n",
      " [  29.  405.]\n",
      " [  29.  506.]\n",
      " [  29.  607.]\n",
      " [  29.  708.]\n",
      " [  29.  809.]\n",
      " [  29.  910.]\n",
      " [  29. 1011.]\n",
      " [  29. 1112.]]\n"
     ]
    }
   ],
   "source": [
    "# Solve using simulated annealing - attempt 4 (population size 100, maximum 100 attempts, maximum 100 iterations)\n",
    "init_state = np.zeros(DIMENSIONS)\n",
    "best_state, best_fitness, fitness_curve = mlrose_hiive.mimic(problem, pop_size=100, keep_pct=0.2, max_attempts=10, max_iters=10, curve=True, random_state=1)\n",
    "print(fitness_curve)"
   ]
  },
  {
   "cell_type": "code",
   "execution_count": 153,
   "metadata": {},
   "outputs": [
    {
     "name": "stdout",
     "output_type": "stream",
     "text": [
      "The best state found is:  [1 1 1 0 0 0 0 0 0 0 0 0 0 0 0 0]\n"
     ]
    }
   ],
   "source": [
    "print('The best state found is: ', best_state)"
   ]
  },
  {
   "cell_type": "code",
   "execution_count": 154,
   "metadata": {},
   "outputs": [
    {
     "name": "stdout",
     "output_type": "stream",
     "text": [
      "The fitness at the best state is:  29.0\n"
     ]
    }
   ],
   "source": [
    "print('The fitness at the best state is: ', best_fitness)"
   ]
  },
  {
   "cell_type": "code",
   "execution_count": 229,
   "metadata": {},
   "outputs": [
    {
     "name": "stdout",
     "output_type": "stream",
     "text": [
      "[[  24.  402.]\n",
      " [  25.  604.]\n",
      " [  26.  806.]\n",
      " [  28. 1008.]\n",
      " [  28. 1209.]\n",
      " [  29. 1411.]\n",
      " [  29. 1612.]\n",
      " [  29. 1813.]\n",
      " [  29. 2014.]\n",
      " [  29. 2215.]]\n"
     ]
    }
   ],
   "source": [
    "# Solve using simulated annealing - attempt 5 (population size 200, maximum 100 attempts, maximum 100 iterations)\n",
    "init_state = np.zeros(DIMENSIONS)\n",
    "best_state, best_fitness, fitness_curve = mlrose_hiive.mimic(problem, pop_size=200, keep_pct=0.2, max_attempts=10, max_iters=10, curve=True, random_state=1)\n",
    "print(fitness_curve)"
   ]
  },
  {
   "cell_type": "code",
   "execution_count": 156,
   "metadata": {},
   "outputs": [
    {
     "name": "stdout",
     "output_type": "stream",
     "text": [
      "The best state found is:  [1 1 1 0 0 0 0 0 0 0 0 0 0 0 0 0]\n"
     ]
    }
   ],
   "source": [
    "print('The best state found is: ', best_state)"
   ]
  },
  {
   "cell_type": "code",
   "execution_count": 157,
   "metadata": {},
   "outputs": [
    {
     "name": "stdout",
     "output_type": "stream",
     "text": [
      "The fitness at the best state is:  29.0\n"
     ]
    }
   ],
   "source": [
    "print('The fitness at the best state is: ', best_fitness)"
   ]
  },
  {
   "cell_type": "code",
   "execution_count": null,
   "metadata": {},
   "outputs": [],
   "source": []
  }
 ],
 "metadata": {
  "kernelspec": {
   "display_name": "Python 3 (ipykernel)",
   "language": "python",
   "name": "python3"
  },
  "language_info": {
   "codemirror_mode": {
    "name": "ipython",
    "version": 3
   },
   "file_extension": ".py",
   "mimetype": "text/x-python",
   "name": "python",
   "nbconvert_exporter": "python",
   "pygments_lexer": "ipython3",
   "version": "3.10.5"
  },
  "pycharm": {
   "stem_cell": {
    "cell_type": "raw",
    "metadata": {
     "collapsed": false
    },
    "source": []
   }
  }
 },
 "nbformat": 4,
 "nbformat_minor": 4
}
